{
  "cells": [
    {
      "cell_type": "code",
      "execution_count": 1,
      "metadata": {
        "id": "aUjUk9J4X2i6"
      },
      "outputs": [
        {
          "name": "stderr",
          "output_type": "stream",
          "text": [
            "C:\\Users\\HARSH\\anaconda3\\lib\\site-packages\\torchvision\\io\\image.py:11: UserWarning: Failed to load image Python extension: Could not find module 'C:\\Users\\HARSH\\anaconda3\\Lib\\site-packages\\torchvision\\image.pyd' (or one of its dependencies). Try using the full path with constructor syntax.\n",
            "  warn(f\"Failed to load image Python extension: {e}\")\n"
          ]
        }
      ],
      "source": [
        "import numpy as np\n",
        "from matplotlib import pyplot as plt\n",
        "import torch\n",
        "from torchvision import datasets, transforms\n",
        "import time"
      ]
    },
    {
      "cell_type": "code",
      "execution_count": 2,
      "metadata": {
        "id": "q6XlsW_LblAX"
      },
      "outputs": [],
      "source": [
        "# data preprocessing\n",
        "transformation = transforms.Compose([transforms.ToTensor(), transforms.Normalize((0., ), (0.5, ))])"
      ]
    },
    {
      "cell_type": "code",
      "execution_count": 3,
      "metadata": {
        "colab": {
          "base_uri": "https://localhost:8080/",
          "height": 828,
          "referenced_widgets": [
            "c3cd4d5801ac44ff82f84ab6bb935451",
            "2b072f4324114641953aecba7a3767ce",
            "509a6bc3ef7244eca55d9e7c3c23f517",
            "c0fbcb1161544e01935df9ad534492e7",
            "ac05a32f2ce446ef91d0384f40d4ebac",
            "6af161cc55124e6caa5e44d39f696409",
            "1c83f990a019450580456685588a5a43",
            "29462ffec16f4ba8b9ce2b0f6dfe48e7",
            "b840f67d7dc04b218ae00f9540032803",
            "02babd46bfb445c68e7222120eab7252",
            "186c9030d0384d17bf9470519531c62f",
            "b761230bae4942deba377e5a2ff2ca6a",
            "a453328885e641809fa1ac81b5fa110c",
            "b0a8da9497f64aaaabfb3c27e573ad2d",
            "d8b883076e024d899b5a89789bb28eb9",
            "d555e8cf03ca4eceb75dccb7cd9d2453",
            "62d41ed1637a4e48a374261f845a5157",
            "92cf6b298d284f8e965ebcc30e8e054f",
            "2a2010edeff14f70b5510680dd6c5ddd",
            "16ae42b1b28c47a48054138eb0278f33",
            "3148aba57d6e48219606a03865dcb0ae",
            "8cfea969ae07406d90e85a8b3e3722b4",
            "827deec4e04744d7b5b8f60f6c1921f3",
            "e616b4dfa87f48ee9ca0a0e7dbd2d6bd",
            "613bdda28a184d38b39803d5058e210e",
            "77f2a44503b7487da4b5d8923fee5863",
            "73a233b9bed84b3dbbebbbfbc4d011e2",
            "647229a70a4940859b00626c8291b377",
            "f14264363aed4190a1f22dee9d3cd088",
            "ee7804f0a08b470cb31a0dfbae500f4c",
            "51f6d7a5d7af4aaf8ddf46393cdec93e",
            "89832983410447f38a7b77e8bf6cae18",
            "a119396ed44c4690805cad209ed3c71f",
            "aa41f4da0ac04850876fba61aa851f0b",
            "8b0d667da522429baa6e6c5fa91b3bc8",
            "d329b94fcd8445fe9713f36c1957c757",
            "cd8b70badd8345baba2c24fd49c1b388",
            "b1f66594dfa744208a0006173c6fde22",
            "f35db29aab4a439fa72358edf6f5f57c",
            "606532d83ea44f3082bed274a6938870",
            "4e050cf70d03413888c4c439f9cc3c75",
            "86de9b36f50445629f856d648c0ff9d9",
            "b7009b6b069343268438ed704c3c49f7",
            "fb3b998eb04d4758bd3be4e98ca22241",
            "8a6b9abe918a49259354bc97e2c9b88c",
            "4a8eb640e9224a3c9ef8af81393ddaab",
            "9808b56c6c224ea79d08a12bd9ed6fe4",
            "ba6cbbe643c64bbeaa0f65d54dd4cb88",
            "c6c314167561465483b22418bdc0d798",
            "d8957ccdfc064483ba897f1d9425ddb6",
            "51fb1a24d4f54d4abb832055f67f8b3c",
            "76684c93d647408e974f60460446a35d",
            "05b7066cf9d744609e671893565205a6",
            "40197176b60d4ed5a2e50b12fe2f7826",
            "6fcbff7fa7ce4830ae8d6709caa68355",
            "fc9612e204c84e1d84e0fe727a93ec8a",
            "e63e8369a5fe4f8eaadaeca7e718ab5f",
            "ba77936181114d488e60e1e9eb0ce9d7",
            "3b6dcb1cb5d543cd9b5ad464746d5aa4",
            "a5d46ea20c9645aebb0cdb1a07c28760",
            "fb75186496f94fe2aae2b048f220b50a",
            "f581d3c6009849c789a59027777e2837",
            "485b625ca90a4658b575f469825e4046",
            "31ee5133b27c41f49ed3c0b762d830e3",
            "7d850b8865f641efbae08ce1994465fc",
            "317f003a5ecb461791b4a7ab105e8240",
            "7e2dfa0820004cd78bffa7bacdfcdca4",
            "d54ab4c0027444ce989e73d24596269c",
            "c197b8148d9b472094cf33db4765a7a3",
            "ac6f418240354a4d81d54c550434a528",
            "d6a91425a8234f958c4a400bb57ceeb7",
            "ad01b6835e3948e3a87b153a6119ca09",
            "8dbfe986c1b44591b393165cf27017fa",
            "4e1d2315e454461b86752573783c601b",
            "d562ad3bb7a64ee4938a3cfc69f808c3",
            "89e27df9eff445a08c0da662e555ada1",
            "ada6e8ffa3084e99a3e5d47281afabbb",
            "587a16d8879d434ba0fadf3993e03c37",
            "c5098df4cc9842b4bc5e8630765dc5f8",
            "3f7b8d37807747269e3e995c3e95c112",
            "502b0231a5d943de8d006418cb8a09a4",
            "71be1569e5b44d4bae0414b1f51be27a",
            "1c07d73f45294b2ab6ccf3e0ad6e1a7e",
            "3af0ff923c444302831d676d779ebb0d",
            "723e0dbd69be41cd881fd21987610883",
            "3fb2fa68c6904ac99098d68b2336c008",
            "3a73012f964f4805bbb7dd4ba198981e",
            "b0e38e79f7c24b3e80961b016cc9a87a"
          ]
        },
        "id": "C51PjjjYchBH",
        "outputId": "7d54079e-8324-43e8-9d4e-4bee3ffd8e2c"
      },
      "outputs": [],
      "source": [
        "train_val_dataset = datasets.MNIST('PATH_TO_STORE_TRAINSET', download= True, train= True, transform= transformation)\n",
        "test_dataset = datasets.MNIST('PATH_TO_STORE_TESTSET', download= True, train= False, transform= transformation)"
      ]
    },
    {
      "cell_type": "code",
      "execution_count": 4,
      "metadata": {
        "colab": {
          "base_uri": "https://localhost:8080/"
        },
        "id": "s2SrC8rQD8_l",
        "outputId": "3e72cb36-bb0e-4c24-9b9a-0ed44863868f"
      },
      "outputs": [
        {
          "data": {
            "text/plain": [
              "Dataset MNIST\n",
              "    Number of datapoints: 60000\n",
              "    Root location: PATH_TO_STORE_TRAINSET\n",
              "    Split: Train\n",
              "    StandardTransform\n",
              "Transform: Compose(\n",
              "               ToTensor()\n",
              "               Normalize(mean=(0.0,), std=(0.5,))\n",
              "           )"
            ]
          },
          "execution_count": 4,
          "metadata": {},
          "output_type": "execute_result"
        }
      ],
      "source": [
        "train_val_dataset"
      ]
    },
    {
      "cell_type": "code",
      "execution_count": 5,
      "metadata": {
        "colab": {
          "base_uri": "https://localhost:8080/"
        },
        "id": "xihTKZ60cyJu",
        "outputId": "ae43980e-d065-435e-bebc-9866c3599ef5"
      },
      "outputs": [
        {
          "data": {
            "text/plain": [
              "(60000, 10000)"
            ]
          },
          "execution_count": 5,
          "metadata": {},
          "output_type": "execute_result"
        }
      ],
      "source": [
        "# counts check\n",
        "len(train_val_dataset), len(test_dataset)"
      ]
    },
    {
      "cell_type": "code",
      "execution_count": 6,
      "metadata": {
        "id": "8Ju_ahHTc5lK"
      },
      "outputs": [],
      "source": [
        "# split to train, val \n",
        "train_dataset, val_dataset = torch.utils.data.random_split(train_val_dataset, [50000, 10000])"
      ]
    },
    {
      "cell_type": "code",
      "execution_count": 7,
      "metadata": {
        "colab": {
          "base_uri": "https://localhost:8080/"
        },
        "id": "lyC47EZ7c8kc",
        "outputId": "c48e4420-44bc-45b5-faa8-d4e7e1ad14ea"
      },
      "outputs": [
        {
          "data": {
            "text/plain": [
              "(50000, 10000, 10000)"
            ]
          },
          "execution_count": 7,
          "metadata": {},
          "output_type": "execute_result"
        }
      ],
      "source": [
        "# counts check\n",
        "len(train_dataset), len(val_dataset), len(test_dataset)"
      ]
    },
    {
      "cell_type": "code",
      "execution_count": 8,
      "metadata": {
        "id": "I50A5feBeRjS"
      },
      "outputs": [],
      "source": [
        "# DataLoaders\n",
        "\n",
        "batch_size = 64\n",
        "\n",
        "train_loader = torch.utils.data.DataLoader(dataset= train_dataset, batch_size= batch_size, shuffle=True)\n",
        "val_loader = torch.utils.data.DataLoader(dataset= val_dataset, batch_size= batch_size, shuffle=True)\n",
        "test_loader = torch.utils.data.DataLoader(dataset= test_dataset, batch_size= batch_size, shuffle=True)"
      ]
    },
    {
      "cell_type": "code",
      "execution_count": 9,
      "metadata": {
        "colab": {
          "base_uri": "https://localhost:8080/"
        },
        "id": "cK055GHJbjl3",
        "outputId": "a8c91a2a-3714-4ef1-a67d-5924866405a5"
      },
      "outputs": [
        {
          "data": {
            "text/plain": [
              "<torch.utils.data.dataloader.DataLoader at 0x201125eb370>"
            ]
          },
          "execution_count": 9,
          "metadata": {},
          "output_type": "execute_result"
        }
      ],
      "source": [
        "train_loader"
      ]
    },
    {
      "cell_type": "code",
      "execution_count": 10,
      "metadata": {
        "colab": {
          "base_uri": "https://localhost:8080/"
        },
        "id": "9ktaGMcafbh4",
        "outputId": "370996a8-a260-4e72-cb23-4b79dc3da871"
      },
      "outputs": [
        {
          "name": "stdout",
          "output_type": "stream",
          "text": [
            "x.shape:  torch.Size([64, 1, 28, 28])\n",
            "y.shape:  torch.Size([64])\n"
          ]
        }
      ],
      "source": [
        "# 1 batch\n",
        "x, y = next(iter(train_loader))\n",
        "print('x.shape: ', x.shape)\n",
        "print('y.shape: ', y.shape)"
      ]
    },
    {
      "cell_type": "code",
      "execution_count": 11,
      "metadata": {
        "colab": {
          "base_uri": "https://localhost:8080/"
        },
        "id": "8m1ghys7ceUL",
        "outputId": "8a767d8c-375a-4bca-d392-03f01cae50fb"
      },
      "outputs": [
        {
          "data": {
            "text/plain": [
              "tensor([[[0.0000, 0.0000, 0.0000, 0.0000, 0.0000, 0.0000, 0.0000, 0.0000,\n",
              "          0.0000, 0.0000, 0.0000, 0.0000, 0.0000, 0.0000, 0.0000, 0.0000,\n",
              "          0.0000, 0.0000, 0.0000, 0.0000, 0.0000, 0.0000, 0.0000, 0.0000,\n",
              "          0.0000, 0.0000, 0.0000, 0.0000],\n",
              "         [0.0000, 0.0000, 0.0000, 0.0000, 0.0000, 0.0000, 0.0000, 0.0000,\n",
              "          0.0000, 0.0000, 0.0000, 0.0000, 0.0000, 0.0000, 0.0000, 0.0000,\n",
              "          0.0000, 0.0000, 0.0000, 0.0000, 0.0000, 0.0000, 0.0000, 0.0000,\n",
              "          0.0000, 0.0000, 0.0000, 0.0000],\n",
              "         [0.0000, 0.0000, 0.0000, 0.0000, 0.0000, 0.0000, 0.0000, 0.0000,\n",
              "          0.0000, 0.0000, 0.0000, 0.0000, 0.0000, 0.0000, 0.0000, 0.0000,\n",
              "          0.0000, 0.0000, 0.0000, 0.0000, 0.0000, 0.0000, 0.0000, 0.0000,\n",
              "          0.0000, 0.0000, 0.0000, 0.0000],\n",
              "         [0.0000, 0.0000, 0.0000, 0.0000, 0.0000, 0.0000, 0.0000, 0.0000,\n",
              "          0.0000, 0.0000, 0.0000, 0.0000, 0.0235, 0.1412, 0.8627, 1.8510,\n",
              "          1.9922, 2.0000, 1.4510, 0.8706, 0.0000, 0.0000, 0.0000, 0.0000,\n",
              "          0.0000, 0.0000, 0.0000, 0.0000],\n",
              "         [0.0000, 0.0000, 0.0000, 0.0000, 0.0000, 0.0000, 0.0000, 0.0000,\n",
              "          0.0000, 0.0000, 0.0000, 0.1569, 0.9961, 1.9843, 1.9843, 1.9843,\n",
              "          1.9843, 1.9843, 1.9843, 1.8431, 0.4706, 0.0000, 0.0000, 0.0000,\n",
              "          0.0000, 0.0000, 0.0000, 0.0000],\n",
              "         [0.0000, 0.0000, 0.0000, 0.0000, 0.0000, 0.0000, 0.0000, 0.0000,\n",
              "          0.0000, 0.0000, 0.0157, 1.2941, 1.9843, 1.9843, 1.9843, 1.9843,\n",
              "          1.9843, 1.9843, 1.9843, 1.9843, 1.5843, 0.0863, 0.0000, 0.0000,\n",
              "          0.0000, 0.0000, 0.0000, 0.0000],\n",
              "         [0.0000, 0.0000, 0.0000, 0.0000, 0.0000, 0.0000, 0.0000, 0.0000,\n",
              "          0.0000, 0.0000, 0.0471, 1.9843, 1.9843, 1.9843, 1.5529, 1.0824,\n",
              "          0.5098, 0.5490, 1.7569, 1.9843, 1.9843, 0.4157, 0.0000, 0.0000,\n",
              "          0.0000, 0.0000, 0.0000, 0.0000],\n",
              "         [0.0000, 0.0000, 0.0000, 0.0000, 0.0000, 0.0000, 0.0000, 0.0000,\n",
              "          0.0000, 0.0000, 0.0471, 1.9843, 1.8745, 1.0745, 0.0863, 0.0000,\n",
              "          0.0000, 0.0000, 0.8392, 1.9843, 1.9843, 0.4157, 0.0000, 0.0000,\n",
              "          0.0000, 0.0000, 0.0000, 0.0000],\n",
              "         [0.0000, 0.0000, 0.0000, 0.0000, 0.0000, 0.0000, 0.0000, 0.0000,\n",
              "          0.0000, 0.0000, 0.0314, 1.5373, 0.5333, 0.0000, 0.0000, 0.0000,\n",
              "          0.0000, 0.0000, 0.0314, 1.3725, 1.9843, 0.4157, 0.0000, 0.0000,\n",
              "          0.0000, 0.0000, 0.0000, 0.0000],\n",
              "         [0.0000, 0.0000, 0.0000, 0.0000, 0.0000, 0.0000, 0.0000, 0.0000,\n",
              "          0.0000, 0.0000, 0.0000, 0.0392, 0.0000, 0.0000, 0.0000, 0.0000,\n",
              "          0.0000, 0.0000, 0.0000, 1.3020, 1.9843, 0.4157, 0.0000, 0.0000,\n",
              "          0.0000, 0.0000, 0.0000, 0.0000],\n",
              "         [0.0000, 0.0000, 0.0000, 0.0000, 0.0000, 0.0000, 0.0000, 0.0000,\n",
              "          0.0000, 0.0000, 0.0000, 0.0000, 0.0000, 0.0000, 0.0000, 0.0000,\n",
              "          0.0000, 0.0000, 0.0235, 1.3647, 1.9843, 0.4157, 0.0000, 0.0000,\n",
              "          0.0000, 0.0000, 0.0000, 0.0000],\n",
              "         [0.0000, 0.0000, 0.0000, 0.0000, 0.0000, 0.0000, 0.0000, 0.0000,\n",
              "          0.0000, 0.0000, 0.0000, 0.0000, 0.0000, 0.0000, 0.0000, 0.0000,\n",
              "          0.0000, 0.0000, 0.8235, 1.9843, 1.6627, 0.1569, 0.0000, 0.0000,\n",
              "          0.0000, 0.0000, 0.0000, 0.0000],\n",
              "         [0.0000, 0.0000, 0.0000, 0.0000, 0.0000, 0.0000, 0.0000, 0.0000,\n",
              "          0.0000, 0.0000, 0.0000, 0.0000, 0.0000, 0.0000, 0.0000, 0.0000,\n",
              "          0.0000, 0.0235, 1.3490, 1.9843, 1.2549, 0.0000, 0.0000, 0.0000,\n",
              "          0.0000, 0.0000, 0.0000, 0.0000],\n",
              "         [0.0000, 0.0000, 0.0000, 0.0000, 0.0000, 0.0000, 0.0000, 0.0000,\n",
              "          0.0000, 0.0000, 0.0000, 0.0000, 0.0000, 0.0000, 0.0000, 0.0000,\n",
              "          0.0000, 0.8157, 1.9843, 1.8745, 0.3843, 0.0000, 0.0000, 0.0000,\n",
              "          0.0000, 0.0000, 0.0000, 0.0000],\n",
              "         [0.0000, 0.0000, 0.0000, 0.0000, 0.0000, 0.0000, 0.0000, 0.0000,\n",
              "          0.0000, 0.0000, 0.0000, 0.0000, 0.0000, 0.0000, 0.0000, 0.0000,\n",
              "          0.0000, 1.8039, 1.9843, 1.6157, 0.0000, 0.0000, 0.0000, 0.0000,\n",
              "          0.0000, 0.0000, 0.0000, 0.0000],\n",
              "         [0.0000, 0.0000, 0.0000, 0.0000, 0.0000, 0.0000, 0.0000, 0.0000,\n",
              "          1.0431, 1.8118, 1.8118, 1.7255, 0.7451, 0.0000, 0.0000, 0.3373,\n",
              "          1.7255, 1.9843, 1.9843, 0.7765, 0.0000, 0.0000, 0.0000, 0.0000,\n",
              "          0.0000, 0.0000, 0.0000, 0.0000],\n",
              "         [0.0000, 0.0000, 0.0000, 0.0000, 0.0000, 0.0000, 0.0000, 1.4588,\n",
              "          1.9765, 1.9843, 1.9843, 1.9843, 1.9843, 1.9529, 1.2314, 1.8118,\n",
              "          1.9843, 1.9843, 1.2784, 0.0157, 0.0000, 0.0000, 0.0000, 0.0000,\n",
              "          0.0000, 0.0000, 0.0000, 0.0000],\n",
              "         [0.0000, 0.0000, 0.0000, 0.0000, 0.0000, 0.0000, 0.0549, 1.5451,\n",
              "          1.9843, 1.9843, 1.9843, 1.9843, 1.9843, 1.9843, 1.9843, 1.9843,\n",
              "          1.9843, 1.9294, 0.3451, 0.0000, 0.0000, 0.0000, 0.0000, 0.0000,\n",
              "          0.0000, 0.0000, 0.0000, 0.0000],\n",
              "         [0.0000, 0.0000, 0.0000, 0.0000, 0.0000, 0.0000, 0.4235, 1.9843,\n",
              "          1.8588, 1.6157, 1.9686, 1.9843, 1.9843, 1.9843, 1.9843, 1.9843,\n",
              "          1.9843, 1.9529, 0.7216, 0.0000, 0.0000, 0.0000, 0.0000, 0.0000,\n",
              "          0.0000, 0.0000, 0.0000, 0.0000],\n",
              "         [0.0000, 0.0000, 0.0000, 0.0000, 0.0000, 0.0000, 0.4235, 1.9843,\n",
              "          1.7961, 0.6196, 1.9216, 1.9843, 1.9843, 1.9843, 1.9843, 1.9843,\n",
              "          1.9843, 1.9843, 1.8667, 0.3294, 0.0000, 0.0000, 0.0000, 0.0000,\n",
              "          0.0000, 0.0000, 0.0000, 0.0000],\n",
              "         [0.0000, 0.0000, 0.0000, 0.0000, 0.0000, 0.0000, 1.1529, 1.9843,\n",
              "          1.9843, 1.9843, 1.9843, 1.9843, 1.9843, 1.9843, 1.9843, 1.9843,\n",
              "          1.9843, 1.9843, 1.7569, 0.0000, 0.0000, 0.0000, 0.0000, 0.0000,\n",
              "          0.0000, 0.0000, 0.0000, 0.0000],\n",
              "         [0.0000, 0.0000, 0.0000, 0.0000, 0.0000, 0.0000, 0.5490, 1.9843,\n",
              "          1.9843, 1.9843, 1.9843, 1.9843, 1.8588, 1.2000, 0.4863, 1.3412,\n",
              "          1.9843, 1.9843, 1.3882, 0.0000, 0.0000, 0.0000, 0.0000, 0.0000,\n",
              "          0.0000, 0.0000, 0.0000, 0.0000],\n",
              "         [0.0000, 0.0000, 0.0000, 0.0000, 0.0000, 0.0000, 0.0314, 1.0824,\n",
              "          1.9843, 1.9843, 1.9843, 1.4667, 0.4549, 0.0000, 0.0000, 0.0549,\n",
              "          0.1333, 0.1333, 0.0549, 0.0000, 0.0000, 0.0000, 0.0000, 0.0000,\n",
              "          0.0000, 0.0000, 0.0000, 0.0000],\n",
              "         [0.0000, 0.0000, 0.0000, 0.0000, 0.0000, 0.0000, 0.0000, 0.0000,\n",
              "          0.0000, 0.0000, 0.0000, 0.0000, 0.0000, 0.0000, 0.0000, 0.0000,\n",
              "          0.0000, 0.0000, 0.0000, 0.0000, 0.0000, 0.0000, 0.0000, 0.0000,\n",
              "          0.0000, 0.0000, 0.0000, 0.0000],\n",
              "         [0.0000, 0.0000, 0.0000, 0.0000, 0.0000, 0.0000, 0.0000, 0.0000,\n",
              "          0.0000, 0.0000, 0.0000, 0.0000, 0.0000, 0.0000, 0.0000, 0.0000,\n",
              "          0.0000, 0.0000, 0.0000, 0.0000, 0.0000, 0.0000, 0.0000, 0.0000,\n",
              "          0.0000, 0.0000, 0.0000, 0.0000],\n",
              "         [0.0000, 0.0000, 0.0000, 0.0000, 0.0000, 0.0000, 0.0000, 0.0000,\n",
              "          0.0000, 0.0000, 0.0000, 0.0000, 0.0000, 0.0000, 0.0000, 0.0000,\n",
              "          0.0000, 0.0000, 0.0000, 0.0000, 0.0000, 0.0000, 0.0000, 0.0000,\n",
              "          0.0000, 0.0000, 0.0000, 0.0000],\n",
              "         [0.0000, 0.0000, 0.0000, 0.0000, 0.0000, 0.0000, 0.0000, 0.0000,\n",
              "          0.0000, 0.0000, 0.0000, 0.0000, 0.0000, 0.0000, 0.0000, 0.0000,\n",
              "          0.0000, 0.0000, 0.0000, 0.0000, 0.0000, 0.0000, 0.0000, 0.0000,\n",
              "          0.0000, 0.0000, 0.0000, 0.0000],\n",
              "         [0.0000, 0.0000, 0.0000, 0.0000, 0.0000, 0.0000, 0.0000, 0.0000,\n",
              "          0.0000, 0.0000, 0.0000, 0.0000, 0.0000, 0.0000, 0.0000, 0.0000,\n",
              "          0.0000, 0.0000, 0.0000, 0.0000, 0.0000, 0.0000, 0.0000, 0.0000,\n",
              "          0.0000, 0.0000, 0.0000, 0.0000]]])"
            ]
          },
          "execution_count": 11,
          "metadata": {},
          "output_type": "execute_result"
        }
      ],
      "source": [
        "x[0]"
      ]
    },
    {
      "cell_type": "code",
      "execution_count": 12,
      "metadata": {
        "colab": {
          "base_uri": "https://localhost:8080/",
          "height": 300
        },
        "id": "18qiC15cfqlw",
        "outputId": "d50050d0-a9c2-4300-ad82-023f7b8d3e13"
      },
      "outputs": [
        {
          "data": {
            "image/png": "[encoded data removed]",
            "text/plain": [
              "<Figure size 432x288 with 1 Axes>"
            ]
          },
          "metadata": {
            "needs_background": "light"
          },
          "output_type": "display_data"
        },
        {
          "name": "stdout",
          "output_type": "stream",
          "text": [
            "\n",
            "Label:  2\n"
          ]
        }
      ],
      "source": [
        "# visualization\n",
        "plt.imshow(x[0].numpy().squeeze(), cmap='gray_r')\n",
        "plt.show()\n",
        "print('\\nLabel: ', y[0].item())"
      ]
    },
    {
      "cell_type": "code",
      "execution_count": 13,
      "metadata": {
        "id": "1jEgCqFdf8_3"
      },
      "outputs": [],
      "source": [
        "# Model S\n",
        "class FCNN(torch.nn.Module):\n",
        "  def __init__(self, in_size, hidden_size, out_size):\n",
        "    super().__init__()\n",
        "    # input layer\n",
        "    self.in_layer = torch.nn.Linear(in_features= in_size, out_features= hidden_size)\n",
        "    self.in_layer_act = torch.nn.ReLU()\n",
        "\n",
        "    # hidden layer\n",
        "    self.hidden_layer = torch.nn.Linear(in_features= hidden_size, out_features= hidden_size)\n",
        "    self.hidden_layer_act = torch.nn.ReLU()\n",
        "\n",
        "    # output layer\n",
        "    self.out_layer = torch.nn.Linear(in_features= hidden_size, out_features= out_size)\n",
        "    self.out_layer_act = torch.nn.LogSoftmax(dim=1)\n",
        "\n",
        "  def forward(self, x):\n",
        "    # input layer\n",
        "    x = self.in_layer_act(self.in_layer(x))\n",
        "\n",
        "    # hidden layer\n",
        "    x = self.hidden_layer_act(self.hidden_layer(x))\n",
        "\n",
        "    # output layer\n",
        "    x = self.out_layer_act(self.out_layer(x))\n",
        "\n",
        "    return x"
      ]
    },
    {
      "cell_type": "code",
      "execution_count": 14,
      "metadata": {
        "colab": {
          "base_uri": "https://localhost:8080/"
        },
        "id": "pxlodvbDjCTM",
        "outputId": "c5646507-c8f2-44a3-c789-e017e18b9b14"
      },
      "outputs": [
        {
          "name": "stdout",
          "output_type": "stream",
          "text": [
            "FCNN(\n",
            "  (in_layer): Linear(in_features=784, out_features=100, bias=True)\n",
            "  (in_layer_act): ReLU()\n",
            "  (hidden_layer): Linear(in_features=100, out_features=100, bias=True)\n",
            "  (hidden_layer_act): ReLU()\n",
            "  (out_layer): Linear(in_features=100, out_features=10, bias=True)\n",
            "  (out_layer_act): LogSoftmax(dim=1)\n",
            ")\n"
          ]
        }
      ],
      "source": [
        "print(FCNN(784, 100, 10))"
      ]
    },
    {
      "cell_type": "code",
      "execution_count": 15,
      "metadata": {
        "id": "1cLuXhaAjGvy"
      },
      "outputs": [],
      "source": [
        "# Model 3\n",
        "class DNN(torch.nn.Module):\n",
        "  def __init__(self, in_size, num_hidden, hidden_size, out_size):\n",
        "    super().__init__()\n",
        "    # input layer\n",
        "    self.in_layer = torch.nn.Linear(in_features= in_size, out_features= hidden_size)\n",
        "    self.in_layer_act = torch.nn.ReLU()\n",
        "\n",
        "    # hidden layers\n",
        "    self.hidden_layers = torch.nn.ModuleList()\n",
        "    for _ in range(num_hidden):\n",
        "      self.hidden_layers.append(torch.nn.Linear(in_features= hidden_size, out_features= hidden_size))\n",
        "      self.hidden_layers.append(torch.nn.ReLU())\n",
        "\n",
        "    # output layer\n",
        "    self.out_layer = torch.nn.Linear(in_features= hidden_size, out_features= out_size)\n",
        "    self.out_layer_act = torch.nn.LogSoftmax(dim=1)\n",
        "\n",
        "  def forward(self, x):\n",
        "    # input layer\n",
        "    x = self.in_layer_act(self.in_layer(x))\n",
        "\n",
        "    # hidden layers\n",
        "    for i in range(len(self.hidden_layers)):\n",
        "      x = self.hidden_layers[i](x)\n",
        "\n",
        "    # output layer\n",
        "    x = self.out_layer_act(self.out_layer(x))\n",
        "\n",
        "    return x"
      ]
    },
    {
      "cell_type": "code",
      "execution_count": 16,
      "metadata": {
        "colab": {
          "base_uri": "https://localhost:8080/"
        },
        "id": "QNiqoUl0kEu_",
        "outputId": "46a633a6-9ab7-43ed-e4a5-d0abd2c084a8"
      },
      "outputs": [
        {
          "name": "stdout",
          "output_type": "stream",
          "text": [
            "DNN(\n",
            "  (in_layer): Linear(in_features=784, out_features=10, bias=True)\n",
            "  (in_layer_act): ReLU()\n",
            "  (hidden_layers): ModuleList(\n",
            "    (0): Linear(in_features=10, out_features=10, bias=True)\n",
            "    (1): ReLU()\n",
            "    (2): Linear(in_features=10, out_features=10, bias=True)\n",
            "    (3): ReLU()\n",
            "    (4): Linear(in_features=10, out_features=10, bias=True)\n",
            "    (5): ReLU()\n",
            "    (6): Linear(in_features=10, out_features=10, bias=True)\n",
            "    (7): ReLU()\n",
            "    (8): Linear(in_features=10, out_features=10, bias=True)\n",
            "    (9): ReLU()\n",
            "    (10): Linear(in_features=10, out_features=10, bias=True)\n",
            "    (11): ReLU()\n",
            "    (12): Linear(in_features=10, out_features=10, bias=True)\n",
            "    (13): ReLU()\n",
            "    (14): Linear(in_features=10, out_features=10, bias=True)\n",
            "    (15): ReLU()\n",
            "    (16): Linear(in_features=10, out_features=10, bias=True)\n",
            "    (17): ReLU()\n",
            "    (18): Linear(in_features=10, out_features=10, bias=True)\n",
            "    (19): ReLU()\n",
            "  )\n",
            "  (out_layer): Linear(in_features=10, out_features=10, bias=True)\n",
            "  (out_layer_act): LogSoftmax(dim=1)\n",
            ")\n"
          ]
        }
      ],
      "source": [
        "print(DNN(784, 10, 10, 10))"
      ]
    },
    {
      "cell_type": "code",
      "execution_count": 17,
      "metadata": {
        "colab": {
          "base_uri": "https://localhost:8080/"
        },
        "id": "sRPf5w9jlIgU",
        "outputId": "bcc5b4e1-0875-473e-effc-b004ad466216"
      },
      "outputs": [
        {
          "name": "stdout",
          "output_type": "stream",
          "text": [
            "cuda\n"
          ]
        }
      ],
      "source": [
        "# device\n",
        "device = 'cuda' if torch.cuda.is_available() else 'cpu'\n",
        "print(device)"
      ]
    },
    {
      "cell_type": "code",
      "execution_count": 18,
      "metadata": {
        "id": "4UIH6yYslCyu"
      },
      "outputs": [],
      "source": [
        "# Instantiation\n",
        "model_S = FCNN(784, 100, 10) \n",
        "model_3 = DNN(784, 10, 10, 10)"
      ]
    },
    {
      "cell_type": "code",
      "execution_count": 19,
      "metadata": {
        "id": "XIlz-5PikH8H"
      },
      "outputs": [],
      "source": [
        "# criterion\n",
        "criterion = torch.nn.NLLLoss(reduction= 'mean')"
      ]
    },
    {
      "cell_type": "code",
      "execution_count": 20,
      "metadata": {
        "id": "sP4e5EITmlg2"
      },
      "outputs": [],
      "source": [
        "def train_model(model, criterion, optimizer, num_epochs, train_loader, val_loader, save_name, device, return_model_object):\n",
        "  train_costs = []\n",
        "  val_costs = []\n",
        "  least_val_cost = float('inf')\n",
        "  version = -1\n",
        "  \n",
        "\n",
        "  for epoch in range(num_epochs):\n",
        "    start_time = time.time()\n",
        "    model.train()\n",
        "    running_loss = 0\n",
        "    i = 0\n",
        "    for x, y in train_loader:\n",
        "      # gradients clear\n",
        "      optimizer.zero_grad()\n",
        "\n",
        "      # input\n",
        "      predictions = model(x.view(x.shape[0], -1).to(device))\n",
        "\n",
        "      # loss calculation\n",
        "      loss = criterion(predictions, y.to(device))\n",
        "\n",
        "      # backprop\n",
        "      loss.backward()\n",
        "\n",
        "      # optimization\n",
        "      optimizer.step()\n",
        "\n",
        "      running_loss += loss.item()\n",
        "      i += 1\n",
        "\n",
        "    train_cost = running_loss / i\n",
        "\n",
        "    # val cost\n",
        "    running_loss = 0\n",
        "    i = 0\n",
        "    model.eval()\n",
        "    for x, y in val_loader:\n",
        "      # input\n",
        "      predictions = model(x.view(x.shape[0], -1).to(device))\n",
        "\n",
        "      # loss calculation\n",
        "      loss = criterion(predictions, y.to(device))\n",
        "\n",
        "      running_loss += loss.item()\n",
        "      i += 1\n",
        "    model.train()\n",
        "\n",
        "    val_cost = running_loss / i\n",
        "\n",
        "    if val_cost < least_val_cost:\n",
        "      version += 1\n",
        "      torch.save(model.state_dict(), save_name + '_{}.pt'.format(version))\n",
        "      least_val_cost = val_cost\n",
        "\n",
        "    train_costs.append(train_cost)\n",
        "    val_costs.append(val_cost)\n",
        "\n",
        "    end_time = time.time()\n",
        "\n",
        "    print('Epoch: {} / {} || Train Cost: {} || Val Cost: {} || Time taken(in sec): {}'.format(epoch+1, num_epochs, train_cost, val_cost, round(end_time-start_time, 3)))\n",
        "\n",
        "  print('-'*10)\n",
        "  print('Training Finished!!')\n",
        "  print('Least Val Cost: ', least_val_cost)\n",
        "  print('Returned Version: ', version)\n",
        "\n",
        "  plt.plot([i+1 for i in range(num_epochs)], train_costs, label='train_costs', c='r')\n",
        "  plt.plot([i+1 for i in range(num_epochs)], val_costs, label='val_costs', alpha=0.75, c='g')\n",
        "  plt.xlabel('Epoch')\n",
        "  plt.ylabel('Log-likelihood Loss, mean reduced')\n",
        "  plt.title('Epoch Cost')\n",
        "  plt.legend()\n",
        "  plt.show()\n",
        "\n",
        "  # trained weights\n",
        "  model_object = return_model_object\n",
        "  model_object.load_state_dict(torch.load(save_name + '_{}.pt'.format(version)))\n",
        "\n",
        "  return model_object"
      ]
    },
    {
      "cell_type": "code",
      "execution_count": 21,
      "metadata": {
        "id": "Y23-CeH322o4"
      },
      "outputs": [],
      "source": [
        "def get_accuracy(model, test_loader, device):\n",
        "  correct_count, all_count = 0, 0\n",
        "  model.eval()\n",
        "  for images,labels in test_loader:\n",
        "    for i in range(len(labels)):\n",
        "      img = images[i].view(1, 784)\n",
        "      with torch.no_grad():\n",
        "          logps = model(img)\n",
        "\n",
        "      \n",
        "      ps = torch.exp(logps)\n",
        "      probab = list(ps.numpy()[0])\n",
        "      pred_label = probab.index(max(probab))\n",
        "      true_label = labels.numpy()[i]\n",
        "      if(true_label == pred_label):\n",
        "        correct_count += 1\n",
        "      all_count += 1\n",
        "\n",
        "  return correct_count, all_count, correct_count / all_count"
      ]
    },
    {
      "cell_type": "code",
      "execution_count": 22,
      "metadata": {
        "id": "W8UcoW9_tYfk"
      },
      "outputs": [],
      "source": [
        "# optimizer\n",
        "model_S = model_S.to(device)\n",
        "optimizer_S = torch.optim.Adam(model_S.parameters())"
      ]
    },
    {
      "cell_type": "code",
      "execution_count": 23,
      "metadata": {
        "id": "OezGALPftDKd"
      },
      "outputs": [
        {
          "name": "stdout",
          "output_type": "stream",
          "text": [
            "Epoch: 1 / 30 || Train Cost: 0.32649586292560145 || Val Cost: 0.1869121814134774 || Time taken(in sec): 17.95\n",
            "Epoch: 2 / 30 || Train Cost: 0.137027952480642 || Val Cost: 0.13379975020363452 || Time taken(in sec): 11.86\n",
            "Epoch: 3 / 30 || Train Cost: 0.09474141225861886 || Val Cost: 0.13082219683416899 || Time taken(in sec): 11.148\n",
            "Epoch: 4 / 30 || Train Cost: 0.07296407213607264 || Val Cost: 0.1093684040294711 || Time taken(in sec): 11.432\n",
            "Epoch: 5 / 30 || Train Cost: 0.05559176629286526 || Val Cost: 0.1046694129124094 || Time taken(in sec): 10.754\n",
            "Epoch: 6 / 30 || Train Cost: 0.04561727926554277 || Val Cost: 0.10723171754781703 || Time taken(in sec): 10.783\n",
            "Epoch: 7 / 30 || Train Cost: 0.034967054522273555 || Val Cost: 0.1096729017233559 || Time taken(in sec): 10.675\n",
            "Epoch: 8 / 30 || Train Cost: 0.032309987813682724 || Val Cost: 0.09901964007713683 || Time taken(in sec): 10.644\n",
            "Epoch: 9 / 30 || Train Cost: 0.026411863539153247 || Val Cost: 0.10825563981464714 || Time taken(in sec): 10.645\n",
            "Epoch: 10 / 30 || Train Cost: 0.022404166788778768 || Val Cost: 0.11833179767234667 || Time taken(in sec): 10.701\n",
            "Epoch: 11 / 30 || Train Cost: 0.018624028920910866 || Val Cost: 0.11532270565783237 || Time taken(in sec): 10.861\n",
            "Epoch: 12 / 30 || Train Cost: 0.017148609469102693 || Val Cost: 0.10452643331282277 || Time taken(in sec): 10.813\n",
            "Epoch: 13 / 30 || Train Cost: 0.012916904483649433 || Val Cost: 0.1323485764351178 || Time taken(in sec): 11.681\n",
            "Epoch: 14 / 30 || Train Cost: 0.018156709714957614 || Val Cost: 0.13281796655727396 || Time taken(in sec): 11.34\n",
            "Epoch: 15 / 30 || Train Cost: 0.011304698472172033 || Val Cost: 0.128722770017135 || Time taken(in sec): 11.436\n",
            "Epoch: 16 / 30 || Train Cost: 0.013576007253709634 || Val Cost: 0.14104335141093113 || Time taken(in sec): 11.189\n",
            "Epoch: 17 / 30 || Train Cost: 0.00987856660067988 || Val Cost: 0.13343653383432696 || Time taken(in sec): 12.102\n",
            "Epoch: 18 / 30 || Train Cost: 0.0114329724945415 || Val Cost: 0.132653453222939 || Time taken(in sec): 11.946\n",
            "Epoch: 19 / 30 || Train Cost: 0.01367138484364429 || Val Cost: 0.15898252936572455 || Time taken(in sec): 12.251\n",
            "Epoch: 20 / 30 || Train Cost: 0.011197903902795653 || Val Cost: 0.1452112872359333 || Time taken(in sec): 11.274\n",
            "Epoch: 21 / 30 || Train Cost: 0.0073120156941915825 || Val Cost: 0.16517429249594728 || Time taken(in sec): 11.596\n",
            "Epoch: 22 / 30 || Train Cost: 0.012012636120608497 || Val Cost: 0.15684965054072325 || Time taken(in sec): 11.24\n",
            "Epoch: 23 / 30 || Train Cost: 0.00989976977480267 || Val Cost: 0.1611929872990386 || Time taken(in sec): 11.114\n",
            "Epoch: 24 / 30 || Train Cost: 0.00881729507400735 || Val Cost: 0.16378491753660204 || Time taken(in sec): 11.804\n",
            "Epoch: 25 / 30 || Train Cost: 0.007681130070296712 || Val Cost: 0.15769295634533886 || Time taken(in sec): 10.859\n",
            "Epoch: 26 / 30 || Train Cost: 0.005598136317493153 || Val Cost: 0.16583611489550615 || Time taken(in sec): 10.629\n",
            "Epoch: 27 / 30 || Train Cost: 0.012599270696158559 || Val Cost: 0.15682718080473945 || Time taken(in sec): 10.951\n",
            "Epoch: 28 / 30 || Train Cost: 0.00542704078773398 || Val Cost: 0.15203066314223665 || Time taken(in sec): 15.472\n",
            "Epoch: 29 / 30 || Train Cost: 0.008607276605876851 || Val Cost: 0.16452024266683418 || Time taken(in sec): 11.911\n",
            "Epoch: 30 / 30 || Train Cost: 0.009857171571469698 || Val Cost: 0.18845117736880315 || Time taken(in sec): 10.493\n",
            "----------\n",
            "Training Finished!!\n",
            "Least Val Cost:  0.09901964007713683\n",
            "Returned Version:  5\n"
          ]
        },
        {
          "data": {
            "image/png": "[encoded data removed]",
            "text/plain": [
              "<Figure size 432x288 with 1 Axes>"
            ]
          },
          "metadata": {
            "needs_background": "light"
          },
          "output_type": "display_data"
        }
      ],
      "source": [
        "trained_model_S = train_model(model= model_S, criterion= criterion, optimizer= optimizer_S, num_epochs=30, train_loader= train_loader, val_loader= val_loader, save_name= 'model_S', device=device, return_model_object= FCNN(784, 100, 10))"
      ]
    },
    {
      "cell_type": "code",
      "execution_count": 24,
      "metadata": {
        "id": "qP6NO0560N0m"
      },
      "outputs": [
        {
          "data": {
            "text/plain": [
              "FCNN(\n",
              "  (in_layer): Linear(in_features=784, out_features=100, bias=True)\n",
              "  (in_layer_act): ReLU()\n",
              "  (hidden_layer): Linear(in_features=100, out_features=100, bias=True)\n",
              "  (hidden_layer_act): ReLU()\n",
              "  (out_layer): Linear(in_features=100, out_features=10, bias=True)\n",
              "  (out_layer_act): LogSoftmax(dim=1)\n",
              ")"
            ]
          },
          "execution_count": 24,
          "metadata": {},
          "output_type": "execute_result"
        }
      ],
      "source": [
        "trained_model_S"
      ]
    },
    {
      "cell_type": "code",
      "execution_count": 25,
      "metadata": {
        "id": "AnbS4QkD4Ck5"
      },
      "outputs": [],
      "source": [
        "# model_3"
      ]
    },
    {
      "cell_type": "code",
      "execution_count": 26,
      "metadata": {
        "id": "l7a7Ut9E4q3K"
      },
      "outputs": [],
      "source": [
        "# optimizer\n",
        "model_3 = model_3.to(device)\n",
        "optimizer_3 = torch.optim.Adam(model_3.parameters())"
      ]
    },
    {
      "cell_type": "code",
      "execution_count": 27,
      "metadata": {
        "id": "lh_kW1hc4uOg"
      },
      "outputs": [
        {
          "name": "stdout",
          "output_type": "stream",
          "text": [
            "Epoch: 1 / 60 || Train Cost: 1.6178867502895462 || Val Cost: 1.2128671092592227 || Time taken(in sec): 19.073\n",
            "Epoch: 2 / 60 || Train Cost: 0.9572723584101938 || Val Cost: 0.866412280851109 || Time taken(in sec): 19.117\n",
            "Epoch: 3 / 60 || Train Cost: 0.7726379408098548 || Val Cost: 0.7366413202635043 || Time taken(in sec): 19.105\n",
            "Epoch: 4 / 60 || Train Cost: 0.6827648480225097 || Val Cost: 0.6836727802540846 || Time taken(in sec): 18.933\n",
            "Epoch: 5 / 60 || Train Cost: 0.6350546876144836 || Val Cost: 0.6558673564036182 || Time taken(in sec): 18.976\n",
            "Epoch: 6 / 60 || Train Cost: 0.5989887714385986 || Val Cost: 0.6144064342140392 || Time taken(in sec): 18.836\n",
            "Epoch: 7 / 60 || Train Cost: 0.571745721351765 || Val Cost: 0.6047540242504922 || Time taken(in sec): 18.977\n",
            "Epoch: 8 / 60 || Train Cost: 0.545934823925233 || Val Cost: 0.578440039875401 || Time taken(in sec): 19.046\n",
            "Epoch: 9 / 60 || Train Cost: 0.5245755243179439 || Val Cost: 0.5642876205550638 || Time taken(in sec): 18.896\n",
            "Epoch: 10 / 60 || Train Cost: 0.4987197400968703 || Val Cost: 0.542698252542763 || Time taken(in sec): 18.864\n",
            "Epoch: 11 / 60 || Train Cost: 0.477367594895308 || Val Cost: 0.527378065001433 || Time taken(in sec): 18.992\n",
            "Epoch: 12 / 60 || Train Cost: 0.4605285793619083 || Val Cost: 0.5323504363275637 || Time taken(in sec): 19.297\n",
            "Epoch: 13 / 60 || Train Cost: 0.4446052534462851 || Val Cost: 0.5039354822817882 || Time taken(in sec): 18.801\n",
            "Epoch: 14 / 60 || Train Cost: 0.43243738768808065 || Val Cost: 0.5580111506638253 || Time taken(in sec): 18.892\n",
            "Epoch: 15 / 60 || Train Cost: 0.42085967351541953 || Val Cost: 0.4791670081911573 || Time taken(in sec): 18.958\n",
            "Epoch: 16 / 60 || Train Cost: 0.41095763032355576 || Val Cost: 0.4665472304365437 || Time taken(in sec): 19.454\n",
            "Epoch: 17 / 60 || Train Cost: 0.39917117828870063 || Val Cost: 0.45545100520370874 || Time taken(in sec): 26.078\n",
            "Epoch: 18 / 60 || Train Cost: 0.3864375859632364 || Val Cost: 0.4527327723943504 || Time taken(in sec): 28.603\n",
            "Epoch: 19 / 60 || Train Cost: 0.38054091328054745 || Val Cost: 0.43702608973357326 || Time taken(in sec): 24.423\n",
            "Epoch: 20 / 60 || Train Cost: 0.37192418019446877 || Val Cost: 0.4493651045545651 || Time taken(in sec): 22.398\n",
            "Epoch: 21 / 60 || Train Cost: 0.36849782535868225 || Val Cost: 0.4649194289164938 || Time taken(in sec): 22.336\n",
            "Epoch: 22 / 60 || Train Cost: 0.35680679060385356 || Val Cost: 0.42566894108702424 || Time taken(in sec): 22.209\n",
            "Epoch: 23 / 60 || Train Cost: 0.3450427787268863 || Val Cost: 0.4321102810323618 || Time taken(in sec): 22.501\n",
            "Epoch: 24 / 60 || Train Cost: 0.3403016512027329 || Val Cost: 0.4308390293721181 || Time taken(in sec): 22.231\n",
            "Epoch: 25 / 60 || Train Cost: 0.3333956637631749 || Val Cost: 0.410381217101577 || Time taken(in sec): 22.47\n",
            "Epoch: 26 / 60 || Train Cost: 0.32791319708137406 || Val Cost: 0.41357082916293175 || Time taken(in sec): 19.97\n",
            "Epoch: 27 / 60 || Train Cost: 0.3207776841738492 || Val Cost: 0.42246290465971087 || Time taken(in sec): 19.973\n",
            "Epoch: 28 / 60 || Train Cost: 0.3145604469120274 || Val Cost: 0.4116589224832073 || Time taken(in sec): 20.781\n",
            "Epoch: 29 / 60 || Train Cost: 0.30960270242236765 || Val Cost: 0.40568277481824727 || Time taken(in sec): 22.328\n",
            "Epoch: 30 / 60 || Train Cost: 0.3066320072221177 || Val Cost: 0.3985391674907344 || Time taken(in sec): 21.994\n",
            "Epoch: 31 / 60 || Train Cost: 0.30402019099258554 || Val Cost: 0.41178059127110583 || Time taken(in sec): 22.311\n",
            "Epoch: 32 / 60 || Train Cost: 0.30140894783846556 || Val Cost: 0.3906200131887843 || Time taken(in sec): 19.763\n",
            "Epoch: 33 / 60 || Train Cost: 0.29400515456295684 || Val Cost: 0.41389603779953754 || Time taken(in sec): 19.159\n",
            "Epoch: 34 / 60 || Train Cost: 0.2917556489253288 || Val Cost: 0.39782141642585683 || Time taken(in sec): 18.971\n",
            "Epoch: 35 / 60 || Train Cost: 0.28854194162961316 || Val Cost: 0.4200515628430494 || Time taken(in sec): 19.079\n",
            "Epoch: 36 / 60 || Train Cost: 0.2868580479041466 || Val Cost: 0.40665807332962184 || Time taken(in sec): 19.355\n",
            "Epoch: 37 / 60 || Train Cost: 0.2868324745008174 || Val Cost: 0.40752031084648366 || Time taken(in sec): 19.491\n",
            "Epoch: 38 / 60 || Train Cost: 0.27837386872152536 || Val Cost: 0.3895450915405705 || Time taken(in sec): 18.843\n",
            "Epoch: 39 / 60 || Train Cost: 0.2756720564621108 || Val Cost: 0.3892522324707098 || Time taken(in sec): 19.339\n",
            "Epoch: 40 / 60 || Train Cost: 0.2746803263283294 || Val Cost: 0.40977770047392814 || Time taken(in sec): 19.611\n",
            "Epoch: 41 / 60 || Train Cost: 0.27620040798736045 || Val Cost: 0.3794740734111731 || Time taken(in sec): 19.017\n",
            "Epoch: 42 / 60 || Train Cost: 0.2711604453070694 || Val Cost: 0.3833744922166417 || Time taken(in sec): 20.465\n",
            "Epoch: 43 / 60 || Train Cost: 0.26872579837241745 || Val Cost: 0.4006171895630041 || Time taken(in sec): 20.472\n",
            "Epoch: 44 / 60 || Train Cost: 0.2662887025548293 || Val Cost: 0.39022846572148573 || Time taken(in sec): 19.83\n",
            "Epoch: 45 / 60 || Train Cost: 0.26500571134697903 || Val Cost: 0.3767373231091317 || Time taken(in sec): 19.732\n",
            "Epoch: 46 / 60 || Train Cost: 0.264257264030559 || Val Cost: 0.3741479623754313 || Time taken(in sec): 19.216\n",
            "Epoch: 47 / 60 || Train Cost: 0.2612874365942862 || Val Cost: 0.3635465013231062 || Time taken(in sec): 18.49\n",
            "Epoch: 48 / 60 || Train Cost: 0.2605142722053982 || Val Cost: 0.3681999568346959 || Time taken(in sec): 18.93\n",
            "Epoch: 49 / 60 || Train Cost: 0.259919013242092 || Val Cost: 0.3751459483318268 || Time taken(in sec): 19.211\n",
            "Epoch: 50 / 60 || Train Cost: 0.2595499326520221 || Val Cost: 0.3691498067965553 || Time taken(in sec): 20.059\n",
            "Epoch: 51 / 60 || Train Cost: 0.25473573346577033 || Val Cost: 0.3725372507788573 || Time taken(in sec): 19.222\n",
            "Epoch: 52 / 60 || Train Cost: 0.25678141952952005 || Val Cost: 0.3734934608552866 || Time taken(in sec): 18.91\n",
            "Epoch: 53 / 60 || Train Cost: 0.25333823905328806 || Val Cost: 0.3926262658113127 || Time taken(in sec): 18.786\n",
            "Epoch: 54 / 60 || Train Cost: 0.249875906428508 || Val Cost: 0.37477372952137783 || Time taken(in sec): 19.37\n",
            "Epoch: 55 / 60 || Train Cost: 0.24862647938835042 || Val Cost: 0.37137222987641194 || Time taken(in sec): 19.844\n",
            "Epoch: 56 / 60 || Train Cost: 0.24695038866451788 || Val Cost: 0.36966779762819696 || Time taken(in sec): 19.268\n",
            "Epoch: 57 / 60 || Train Cost: 0.24780708678600277 || Val Cost: 0.3688146831693163 || Time taken(in sec): 19.079\n",
            "Epoch: 58 / 60 || Train Cost: 0.24544569120154053 || Val Cost: 0.3722157494467535 || Time taken(in sec): 18.97\n",
            "Epoch: 59 / 60 || Train Cost: 0.24705559479268005 || Val Cost: 0.3625959146554303 || Time taken(in sec): 19.027\n",
            "Epoch: 60 / 60 || Train Cost: 0.24521448165225937 || Val Cost: 0.380614076569012 || Time taken(in sec): 18.868\n",
            "----------\n",
            "Training Finished!!\n",
            "Least Val Cost:  0.3625959146554303\n",
            "Returned Version:  28\n"
          ]
        },
        {
          "data": {
            "image/png": "[encoded data removed]",
            "text/plain": [
              "<Figure size 432x288 with 1 Axes>"
            ]
          },
          "metadata": {
            "needs_background": "light"
          },
          "output_type": "display_data"
        }
      ],
      "source": [
        "trained_model_3 = train_model(model= model_3, criterion= criterion, optimizer= optimizer_3, num_epochs=60, train_loader= train_loader, val_loader= val_loader, save_name= 'model_3', device=device, return_model_object= DNN(784, 10, 10, 10))"
      ]
    },
    {
      "cell_type": "code",
      "execution_count": 28,
      "metadata": {
        "id": "m7OQJONeAkSf"
      },
      "outputs": [
        {
          "data": {
            "text/plain": [
              "DNN(\n",
              "  (in_layer): Linear(in_features=784, out_features=10, bias=True)\n",
              "  (in_layer_act): ReLU()\n",
              "  (hidden_layers): ModuleList(\n",
              "    (0): Linear(in_features=10, out_features=10, bias=True)\n",
              "    (1): ReLU()\n",
              "    (2): Linear(in_features=10, out_features=10, bias=True)\n",
              "    (3): ReLU()\n",
              "    (4): Linear(in_features=10, out_features=10, bias=True)\n",
              "    (5): ReLU()\n",
              "    (6): Linear(in_features=10, out_features=10, bias=True)\n",
              "    (7): ReLU()\n",
              "    (8): Linear(in_features=10, out_features=10, bias=True)\n",
              "    (9): ReLU()\n",
              "    (10): Linear(in_features=10, out_features=10, bias=True)\n",
              "    (11): ReLU()\n",
              "    (12): Linear(in_features=10, out_features=10, bias=True)\n",
              "    (13): ReLU()\n",
              "    (14): Linear(in_features=10, out_features=10, bias=True)\n",
              "    (15): ReLU()\n",
              "    (16): Linear(in_features=10, out_features=10, bias=True)\n",
              "    (17): ReLU()\n",
              "    (18): Linear(in_features=10, out_features=10, bias=True)\n",
              "    (19): ReLU()\n",
              "  )\n",
              "  (out_layer): Linear(in_features=10, out_features=10, bias=True)\n",
              "  (out_layer_act): LogSoftmax(dim=1)\n",
              ")"
            ]
          },
          "execution_count": 28,
          "metadata": {},
          "output_type": "execute_result"
        }
      ],
      "source": [
        "trained_model_3 "
      ]
    },
    {
      "cell_type": "code",
      "execution_count": 29,
      "metadata": {
        "id": "7DGqAY-Q3-S-"
      },
      "outputs": [
        {
          "name": "stdout",
          "output_type": "stream",
          "text": [
            "Model S: Correctly Classified: 9777 / 10000 || Accuracy: 0.9777\n"
          ]
        }
      ],
      "source": [
        "# Model S\n",
        "model_results_S = get_accuracy(trained_model_S, test_loader, device)\n",
        "print('Model S: Correctly Classified: {} / {} || Accuracy: {}'.format(model_results_S[0], model_results_S[1], model_results_S[2]))"
      ]
    },
    {
      "cell_type": "code",
      "execution_count": 30,
      "metadata": {
        "id": "y_-EeVPt5PD8"
      },
      "outputs": [
        {
          "name": "stdout",
          "output_type": "stream",
          "text": [
            "Model 3: Correctly Classified: 9196 / 10000 || Accuracy: 0.9196\n"
          ]
        }
      ],
      "source": [
        "# Model 3\n",
        "model_results_3 = get_accuracy(trained_model_3, test_loader, device)\n",
        "print('Model 3: Correctly Classified: {} / {} || Accuracy: {}'.format(model_results_3[0], model_results_3[1], model_results_3[2]))"
      ]
    },
    {
      "cell_type": "code",
      "execution_count": 31,
      "metadata": {
        "id": "MHcLMdPC7C66"
      },
      "outputs": [],
      "source": [
        "# Feature Extraction"
      ]
    },
    {
      "cell_type": "code",
      "execution_count": 32,
      "metadata": {
        "id": "YECOrNs3EJca"
      },
      "outputs": [],
      "source": [
        "# Target Features: layer 5, 7, 10 >> hidden_layers: (9), (13), (19)"
      ]
    },
    {
      "cell_type": "code",
      "execution_count": 33,
      "metadata": {
        "id": "2d7bGT6CIb94"
      },
      "outputs": [
        {
          "data": {
            "text/plain": [
              "(ReLU(), ReLU(), ReLU())"
            ]
          },
          "execution_count": 33,
          "metadata": {},
          "output_type": "execute_result"
        }
      ],
      "source": [
        "# Target Layers\n",
        "\n",
        "trained_model_3.hidden_layers[9], trained_model_3.hidden_layers[13], trained_model_3.hidden_layers[19]"
      ]
    },
    {
      "cell_type": "code",
      "execution_count": 34,
      "metadata": {
        "id": "SkqfyZ3kEgy0"
      },
      "outputs": [],
      "source": [
        "# Hook utility func\n",
        "activation = {}\n",
        "def getActivation(name):\n",
        "  # the hook signature\n",
        "  def hook(model, input, output):\n",
        "    activation[name] = output.detach()\n",
        "  return hook"
      ]
    },
    {
      "cell_type": "code",
      "execution_count": 35,
      "metadata": {
        "id": "qwhFUxHiL2jh"
      },
      "outputs": [],
      "source": [
        "trained_model_3 = trained_model_3.to(device)"
      ]
    },
    {
      "cell_type": "code",
      "execution_count": 36,
      "metadata": {
        "id": "wkdp2m2IIs_c"
      },
      "outputs": [],
      "source": [
        "# Train DataLoader\n",
        "\n",
        "# Register forward hooks\n",
        "h1 = trained_model_3.hidden_layers[9].register_forward_hook(getActivation('hidden_layers.9'))\n",
        "h2 = trained_model_3.hidden_layers[13].register_forward_hook(getActivation('hidden_layers.13'))\n",
        "h3 = trained_model_3.hidden_layers[19].register_forward_hook(getActivation('hidden_layers.19'))\n",
        "\n",
        "l_5_features_train, l_7_features_train, l_10_features_train = [], [], []\n",
        "l_all_labels_train = []\n",
        "\n",
        "for x, y in train_loader:\n",
        "\n",
        "  # forward pass\n",
        "  prediction = trained_model_3(x.view(x.shape[0], -1).to(device))\n",
        "\n",
        "  # Layer 5\n",
        "  l_5_features_train.extend(activation['hidden_layers.9'].cpu().numpy())\n",
        "\n",
        "  # Layer 7\n",
        "  l_7_features_train.extend(activation['hidden_layers.13'].cpu().numpy())\n",
        "  \n",
        "  # Layer 10\n",
        "  l_10_features_train.extend(activation['hidden_layers.19'].cpu().numpy())\n",
        "  l_all_labels_train.extend(y.cpu().numpy())\n",
        "\n",
        "h1.remove()\n",
        "h2.remove()\n",
        "h3.remove()"
      ]
    },
    {
      "cell_type": "code",
      "execution_count": 37,
      "metadata": {
        "id": "DG-CYWhAMYSC"
      },
      "outputs": [],
      "source": [
        "# Val DataLoader\n",
        "\n",
        "# Register forward hooks\n",
        "h1 = trained_model_3.hidden_layers[9].register_forward_hook(getActivation('hidden_layers.9'))\n",
        "h2 = trained_model_3.hidden_layers[13].register_forward_hook(getActivation('hidden_layers.13'))\n",
        "h3 = trained_model_3.hidden_layers[19].register_forward_hook(getActivation('hidden_layers.19'))\n",
        "\n",
        "l_5_features_val, l_7_features_val, l_10_features_val = [], [], []\n",
        "l_all_labels_val = []\n",
        "\n",
        "for x, y in val_loader:\n",
        "\n",
        "  # forward pass\n",
        "  prediction = trained_model_3(x.view(x.shape[0], -1).to(device))\n",
        "\n",
        "  # Layer 5\n",
        "  l_5_features_val.extend(activation['hidden_layers.9'].cpu().numpy())\n",
        "\n",
        "  # Layer 7\n",
        "  l_7_features_val.extend(activation['hidden_layers.13'].cpu().numpy())\n",
        "  \n",
        "  # Layer 10\n",
        "  l_10_features_val.extend(activation['hidden_layers.19'].cpu().numpy())\n",
        "  l_all_labels_val.extend(y.cpu().numpy())\n",
        "\n",
        "h1.remove()\n",
        "h2.remove()\n",
        "h3.remove()"
      ]
    },
    {
      "cell_type": "code",
      "execution_count": 38,
      "metadata": {
        "id": "hLP5w6PdMdsE"
      },
      "outputs": [],
      "source": [
        "# Test DataLoader\n",
        "\n",
        "# Register forward hooks\n",
        "h1 = trained_model_3.hidden_layers[9].register_forward_hook(getActivation('hidden_layers.9'))\n",
        "h2 = trained_model_3.hidden_layers[13].register_forward_hook(getActivation('hidden_layers.13'))\n",
        "h3 = trained_model_3.hidden_layers[19].register_forward_hook(getActivation('hidden_layers.19'))\n",
        "\n",
        "l_5_features_test, l_7_features_test, l_10_features_test = [], [], []\n",
        "l_all_labels_test = []\n",
        "\n",
        "for x, y in test_loader:\n",
        "\n",
        "  # forward pass\n",
        "  prediction = trained_model_3(x.view(x.shape[0], -1).to(device))\n",
        "\n",
        "  # Layer 5\n",
        "  l_5_features_test.extend(activation['hidden_layers.9'].cpu().numpy())\n",
        "\n",
        "  # Layer 7\n",
        "  l_7_features_test.extend(activation['hidden_layers.13'].cpu().numpy())\n",
        "  \n",
        "  # Layer 10\n",
        "  l_10_features_test.extend(activation['hidden_layers.19'].cpu().numpy())\n",
        "  l_all_labels_test.extend(y.cpu().numpy())\n",
        "\n",
        "h1.remove()\n",
        "h2.remove()\n",
        "h3.remove()"
      ]
    },
    {
      "cell_type": "code",
      "execution_count": 39,
      "metadata": {
        "id": "iDIUv_1WMnRZ"
      },
      "outputs": [
        {
          "data": {
            "text/plain": [
              "(50000, 10000, 10000)"
            ]
          },
          "execution_count": 39,
          "metadata": {},
          "output_type": "execute_result"
        }
      ],
      "source": [
        "# Count Check\n",
        "len(l_all_labels_train), len(l_all_labels_val), len(l_all_labels_test)"
      ]
    },
    {
      "cell_type": "code",
      "execution_count": 40,
      "metadata": {
        "id": "qqll3XGMP_rg"
      },
      "outputs": [
        {
          "data": {
            "text/plain": [
              "array([19.084444  , 17.63852   , 12.890121  ,  0.        ,  0.        ,\n",
              "       13.285548  ,  0.22362253,  0.        ,  0.34695846,  8.851758  ],\n",
              "      dtype=float32)"
            ]
          },
          "execution_count": 40,
          "metadata": {},
          "output_type": "execute_result"
        }
      ],
      "source": [
        "l_5_features_train[0]"
      ]
    },
    {
      "cell_type": "code",
      "execution_count": 41,
      "metadata": {
        "id": "FVnSRrGvQQQF"
      },
      "outputs": [],
      "source": [
        "# Train + Val\n",
        "\n",
        "# Features\n",
        "l_5_features_train_dev = l_5_features_train + l_5_features_val\n",
        "l_7_features_train_dev = l_7_features_train + l_7_features_val\n",
        "l_10_features_train_dev = l_10_features_train + l_10_features_val\n",
        "\n",
        "# Labels\n",
        "l_all_labels_train_dev = l_all_labels_train + l_all_labels_val"
      ]
    },
    {
      "cell_type": "code",
      "execution_count": 42,
      "metadata": {
        "id": "ISKXPwLwQqbx"
      },
      "outputs": [
        {
          "data": {
            "text/plain": [
              "(60000, 60000)"
            ]
          },
          "execution_count": 42,
          "metadata": {},
          "output_type": "execute_result"
        }
      ],
      "source": [
        "# Counts check\n",
        "len(l_5_features_train_dev), len(l_all_labels_train_dev)"
      ]
    },
    {
      "cell_type": "code",
      "execution_count": 43,
      "metadata": {
        "id": "tQgbwCmxQJ72"
      },
      "outputs": [],
      "source": [
        "# KNN"
      ]
    },
    {
      "cell_type": "code",
      "execution_count": 44,
      "metadata": {
        "id": "opRO18JdQM6V"
      },
      "outputs": [],
      "source": [
        "from sklearn.neighbors import KNeighborsClassifier\n",
        "from sklearn.metrics import accuracy_score"
      ]
    },
    {
      "cell_type": "code",
      "execution_count": 45,
      "metadata": {
        "id": "-XJ9Q62EQywu"
      },
      "outputs": [],
      "source": [
        "# Layer 5 features\n",
        "clf_1 = KNeighborsClassifier(n_neighbors=50)"
      ]
    },
    {
      "cell_type": "code",
      "execution_count": 46,
      "metadata": {
        "id": "12f8N37ZQ6Mk"
      },
      "outputs": [],
      "source": [
        "clf_1 = clf_1.fit(l_5_features_train_dev, l_all_labels_train_dev)"
      ]
    },
    {
      "cell_type": "code",
      "execution_count": 47,
      "metadata": {
        "id": "1sFlfGxGRJNR"
      },
      "outputs": [],
      "source": [
        "preds_1 = clf_1.predict(l_5_features_test)"
      ]
    },
    {
      "cell_type": "code",
      "execution_count": 48,
      "metadata": {
        "id": "ZxjB9kXMRSI9"
      },
      "outputs": [],
      "source": [
        "acc_1 = accuracy_score(l_all_labels_test, preds_1)"
      ]
    },
    {
      "cell_type": "code",
      "execution_count": 49,
      "metadata": {
        "id": "wc6TEoAFSSV4"
      },
      "outputs": [],
      "source": [
        "# Layer 7 features\n",
        "clf_2 = KNeighborsClassifier(n_neighbors=50)"
      ]
    },
    {
      "cell_type": "code",
      "execution_count": 50,
      "metadata": {
        "id": "napXdJERSSV6"
      },
      "outputs": [],
      "source": [
        "clf_2 = clf_2.fit(l_7_features_train_dev, l_all_labels_train_dev)"
      ]
    },
    {
      "cell_type": "code",
      "execution_count": 51,
      "metadata": {
        "id": "5lyNeaeuSSV6"
      },
      "outputs": [],
      "source": [
        "preds_2 = clf_2.predict(l_7_features_test)"
      ]
    },
    {
      "cell_type": "code",
      "execution_count": 52,
      "metadata": {
        "id": "DOrlB9zmSSV6"
      },
      "outputs": [],
      "source": [
        "acc_2 = accuracy_score(l_all_labels_test, preds_2)"
      ]
    },
    {
      "cell_type": "code",
      "execution_count": 53,
      "metadata": {
        "id": "vrJKeNrbSQ3v"
      },
      "outputs": [],
      "source": [
        "# Layer 10 features\n",
        "clf_3 = KNeighborsClassifier(n_neighbors=50)"
      ]
    },
    {
      "cell_type": "code",
      "execution_count": 54,
      "metadata": {
        "id": "74yyg8rHSQ3x"
      },
      "outputs": [],
      "source": [
        "clf_3 = clf_3.fit(l_10_features_train_dev, l_all_labels_train_dev)"
      ]
    },
    {
      "cell_type": "code",
      "execution_count": 55,
      "metadata": {
        "id": "5eaJ0ijtSQ3x"
      },
      "outputs": [],
      "source": [
        "preds_3 = clf_3.predict(l_10_features_test)"
      ]
    },
    {
      "cell_type": "code",
      "execution_count": 56,
      "metadata": {
        "id": "WHnW4HFhSQ3y"
      },
      "outputs": [],
      "source": [
        "acc_3 = accuracy_score(l_all_labels_test, preds_3)"
      ]
    },
    {
      "cell_type": "code",
      "execution_count": 57,
      "metadata": {
        "id": "WDiFpSqeTf8E"
      },
      "outputs": [
        {
          "data": {
            "text/plain": [
              "(0.9199, 0.9203, 0.9202)"
            ]
          },
          "execution_count": 57,
          "metadata": {},
          "output_type": "execute_result"
        }
      ],
      "source": [
        "acc_1, acc_2, acc_3"
      ]
    },
    {
      "cell_type": "code",
      "execution_count": 58,
      "metadata": {
        "id": "_KgAfgQ8Th9c"
      },
      "outputs": [],
      "source": [
        "def get_best_fit(max_k, train_features, train_labels, test_features, test_labels, layer: int):\n",
        "  best_accuracy = -1\n",
        "  corres_k = -1\n",
        "  accuracies = []\n",
        "\n",
        "  for k in range(1, max_k+1):\n",
        "    clf = KNeighborsClassifier(n_neighbors=k)\n",
        "    clf = clf.fit(train_features, train_labels)\n",
        "    preds = clf.predict(test_features)\n",
        "    acc = accuracy_score(test_labels, preds)\n",
        "    accuracies.append(acc)\n",
        "    if acc > best_accuracy:\n",
        "      best_accuracy = acc\n",
        "      corres_k = k\n",
        "    print(\"\\r\", end=\"\")\n",
        "    print(\"Process Completed: {:.1%} \".format(k/max_k), end=\"\")\n",
        "\n",
        "  print('\\n\\nBest Accuracy using Layer {} activations: {} for K = {}\\n'.format(layer, best_accuracy, corres_k))\n",
        "\n",
        "  plt.plot([*range(1, max_k+1)], accuracies, label='accuracies')\n",
        "  plt.xlabel('K')\n",
        "  plt.ylabel('accuracy score')\n",
        "  plt.title('Layer: {}'.format(layer))\n",
        "  plt.legend()\n",
        "  plt.show()\n",
        "\n",
        "  return best_accuracy, corres_k"
      ]
    },
    {
      "cell_type": "code",
      "execution_count": 59,
      "metadata": {
        "id": "yD3V5L7MWE5R"
      },
      "outputs": [
        {
          "name": "stdout",
          "output_type": "stream",
          "text": [
            "Process Completed: 100.0% \n",
            "\n",
            "Best Accuracy using Layer 5 activations: 0.9213 for K = 17\n",
            "\n"
          ]
        },
        {
          "data": {
            "image/png": "[encoded data removed]",
            "text/plain": [
              "<Figure size 432x288 with 1 Axes>"
            ]
          },
          "metadata": {
            "needs_background": "light"
          },
          "output_type": "display_data"
        }
      ],
      "source": [
        "acc_1, k_1 = get_best_fit(101, l_5_features_train_dev, l_all_labels_train_dev, l_5_features_test, l_all_labels_test, 5)"
      ]
    },
    {
      "cell_type": "code",
      "execution_count": 60,
      "metadata": {
        "id": "3m9UJYUrWTgR"
      },
      "outputs": [
        {
          "name": "stdout",
          "output_type": "stream",
          "text": [
            "Process Completed: 100.0% \n",
            "\n",
            "Best Accuracy using Layer 7 activations: 0.921 for K = 24\n",
            "\n"
          ]
        },
        {
          "data": {
            "image/png": "[encoded data removed]",
            "text/plain": [
              "<Figure size 432x288 with 1 Axes>"
            ]
          },
          "metadata": {
            "needs_background": "light"
          },
          "output_type": "display_data"
        }
      ],
      "source": [
        "acc_2, k_2 = get_best_fit(101, l_7_features_train_dev, l_all_labels_train_dev, l_7_features_test, l_all_labels_test, 7)"
      ]
    },
    {
      "cell_type": "code",
      "execution_count": 61,
      "metadata": {
        "id": "-hmxMrYEXncG"
      },
      "outputs": [
        {
          "name": "stdout",
          "output_type": "stream",
          "text": [
            "Process Completed: 100.0% \n",
            "\n",
            "Best Accuracy using Layer 10 activations: 0.9222 for K = 16\n",
            "\n"
          ]
        },
        {
          "data": {
            "image/png": "[encoded data removed]",
            "text/plain": [
              "<Figure size 432x288 with 1 Axes>"
            ]
          },
          "metadata": {
            "needs_background": "light"
          },
          "output_type": "display_data"
        }
      ],
      "source": [
        "acc_3, k_3 = get_best_fit(101, l_10_features_train_dev, l_all_labels_train_dev, l_10_features_test, l_all_labels_test, 10)"
      ]
    },
    {
      "cell_type": "code",
      "execution_count": 62,
      "metadata": {
        "id": "l-_fAZivXsdH"
      },
      "outputs": [
        {
          "name": "stdout",
          "output_type": "stream",
          "text": [
            "Best Accuracies:\n",
            "\n",
            "Neural Nets:\n",
            "----------\n",
            "For Model S: Acc: 0.9777\n",
            "For Model 3: Acc: 0.9196\n",
            "KNN:\n",
            "----------\n",
            "For Layer 5: Acc = 0.9213 & K = 17\n",
            "For Layer 7: Acc = 0.921 & K = 24\n",
            "For Layer 10: Acc = 0.9222 & K = 16\n"
          ]
        }
      ],
      "source": [
        "# Best Accuracies:\n",
        "print('Best Accuracies:\\n')\n",
        "print('Neural Nets:')\n",
        "print('-'*10)\n",
        "print('For Model S: Acc: {}'.format(model_results_S[2]))\n",
        "print('For Model 3: Acc: {}'.format(model_results_3[2]))\n",
        "print('KNN:')\n",
        "print('-'*10)\n",
        "print('For Layer 5: Acc = {} & K = {}'.format(acc_1, k_1))\n",
        "print('For Layer 7: Acc = {} & K = {}'.format(acc_2, k_2))\n",
        "print('For Layer 10: Acc = {} & K = {}'.format(acc_3, k_3))"
      ]
    }
  ],
  "metadata": {
    "accelerator": "GPU",
    "colab": {
      "collapsed_sections": [],
      "name": "MLFA",
      "provenance": []
    },
    "kernelspec": {
      "display_name": "Python 3",
      "name": "python3"
    },
    "language_info": {
      "codemirror_mode": {
        "name": "ipython",
        "version": 3
      },
      "file_extension": ".py",
      "mimetype": "text/x-python",
      "name": "python",
      "nbconvert_exporter": "python",
      "pygments_lexer": "ipython3",
      "version": "3.8.8"
    },
    "widgets": {
      "application/vnd.jupyter.widget-state+json": {
        "02babd46bfb445c68e7222120eab7252": {
          "model_module": "@jupyter-widgets/controls",
          "model_module_version": "1.5.0",
          "model_name": "DescriptionStyleModel",
          "state": {
            "_model_module": "@jupyter-widgets/controls",
            "_model_module_version": "1.5.0",
            "_model_name": "DescriptionStyleModel",
            "_view_count": null,
            "_view_module": "@jupyter-widgets/base",
            "_view_module_version": "1.2.0",
            "_view_name": "StyleView",
            "description_width": ""
          }
        },
        "05b7066cf9d744609e671893565205a6": {
          "model_module": "@jupyter-widgets/base",
          "model_module_version": "1.2.0",
          "model_name": "LayoutModel",
          "state": {
            "_model_module": "@jupyter-widgets/base",
            "_model_module_version": "1.2.0",
            "_model_name": "LayoutModel",
            "_view_count": null,
            "_view_module": "@jupyter-widgets/base",
            "_view_module_version": "1.2.0",
            "_view_name": "LayoutView",
            "align_content": null,
            "align_items": null,
            "align_self": null,
            "border": null,
            "bottom": null,
            "display": null,
            "flex": null,
            "flex_flow": null,
            "grid_area": null,
            "grid_auto_columns": null,
            "grid_auto_flow": null,
            "grid_auto_rows": null,
            "grid_column": null,
            "grid_gap": null,
            "grid_row": null,
            "grid_template_areas": null,
            "grid_template_columns": null,
            "grid_template_rows": null,
            "height": null,
            "justify_content": null,
            "justify_items": null,
            "left": null,
            "margin": null,
            "max_height": null,
            "max_width": null,
            "min_height": null,
            "min_width": null,
            "object_fit": null,
            "object_position": null,
            "order": null,
            "overflow": null,
            "overflow_x": null,
            "overflow_y": null,
            "padding": null,
            "right": null,
            "top": null,
            "visibility": null,
            "width": null
          }
        },
        "16ae42b1b28c47a48054138eb0278f33": {
          "model_module": "@jupyter-widgets/base",
          "model_module_version": "1.2.0",
          "model_name": "LayoutModel",
          "state": {
            "_model_module": "@jupyter-widgets/base",
            "_model_module_version": "1.2.0",
            "_model_name": "LayoutModel",
            "_view_count": null,
            "_view_module": "@jupyter-widgets/base",
            "_view_module_version": "1.2.0",
            "_view_name": "LayoutView",
            "align_content": null,
            "align_items": null,
            "align_self": null,
            "border": null,
            "bottom": null,
            "display": null,
            "flex": null,
            "flex_flow": null,
            "grid_area": null,
            "grid_auto_columns": null,
            "grid_auto_flow": null,
            "grid_auto_rows": null,
            "grid_column": null,
            "grid_gap": null,
            "grid_row": null,
            "grid_template_areas": null,
            "grid_template_columns": null,
            "grid_template_rows": null,
            "height": null,
            "justify_content": null,
            "justify_items": null,
            "left": null,
            "margin": null,
            "max_height": null,
            "max_width": null,
            "min_height": null,
            "min_width": null,
            "object_fit": null,
            "object_position": null,
            "order": null,
            "overflow": null,
            "overflow_x": null,
            "overflow_y": null,
            "padding": null,
            "right": null,
            "top": null,
            "visibility": null,
            "width": null
          }
        },
        "186c9030d0384d17bf9470519531c62f": {
          "model_module": "@jupyter-widgets/base",
          "model_module_version": "1.2.0",
          "model_name": "LayoutModel",
          "state": {
            "_model_module": "@jupyter-widgets/base",
            "_model_module_version": "1.2.0",
            "_model_name": "LayoutModel",
            "_view_count": null,
            "_view_module": "@jupyter-widgets/base",
            "_view_module_version": "1.2.0",
            "_view_name": "LayoutView",
            "align_content": null,
            "align_items": null,
            "align_self": null,
            "border": null,
            "bottom": null,
            "display": null,
            "flex": null,
            "flex_flow": null,
            "grid_area": null,
            "grid_auto_columns": null,
            "grid_auto_flow": null,
            "grid_auto_rows": null,
            "grid_column": null,
            "grid_gap": null,
            "grid_row": null,
            "grid_template_areas": null,
            "grid_template_columns": null,
            "grid_template_rows": null,
            "height": null,
            "justify_content": null,
            "justify_items": null,
            "left": null,
            "margin": null,
            "max_height": null,
            "max_width": null,
            "min_height": null,
            "min_width": null,
            "object_fit": null,
            "object_position": null,
            "order": null,
            "overflow": null,
            "overflow_x": null,
            "overflow_y": null,
            "padding": null,
            "right": null,
            "top": null,
            "visibility": null,
            "width": null
          }
        },
        "1c07d73f45294b2ab6ccf3e0ad6e1a7e": {
          "model_module": "@jupyter-widgets/controls",
          "model_module_version": "1.5.0",
          "model_name": "DescriptionStyleModel",
          "state": {
            "_model_module": "@jupyter-widgets/controls",
            "_model_module_version": "1.5.0",
            "_model_name": "DescriptionStyleModel",
            "_view_count": null,
            "_view_module": "@jupyter-widgets/base",
            "_view_module_version": "1.2.0",
            "_view_name": "StyleView",
            "description_width": ""
          }
        },
        "1c83f990a019450580456685588a5a43": {
          "model_module": "@jupyter-widgets/base",
          "model_module_version": "1.2.0",
          "model_name": "LayoutModel",
          "state": {
            "_model_module": "@jupyter-widgets/base",
            "_model_module_version": "1.2.0",
            "_model_name": "LayoutModel",
            "_view_count": null,
            "_view_module": "@jupyter-widgets/base",
            "_view_module_version": "1.2.0",
            "_view_name": "LayoutView",
            "align_content": null,
            "align_items": null,
            "align_self": null,
            "border": null,
            "bottom": null,
            "display": null,
            "flex": null,
            "flex_flow": null,
            "grid_area": null,
            "grid_auto_columns": null,
            "grid_auto_flow": null,
            "grid_auto_rows": null,
            "grid_column": null,
            "grid_gap": null,
            "grid_row": null,
            "grid_template_areas": null,
            "grid_template_columns": null,
            "grid_template_rows": null,
            "height": null,
            "justify_content": null,
            "justify_items": null,
            "left": null,
            "margin": null,
            "max_height": null,
            "max_width": null,
            "min_height": null,
            "min_width": null,
            "object_fit": null,
            "object_position": null,
            "order": null,
            "overflow": null,
            "overflow_x": null,
            "overflow_y": null,
            "padding": null,
            "right": null,
            "top": null,
            "visibility": null,
            "width": null
          }
        },
        "29462ffec16f4ba8b9ce2b0f6dfe48e7": {
          "model_module": "@jupyter-widgets/controls",
          "model_module_version": "1.5.0",
          "model_name": "ProgressStyleModel",
          "state": {
            "_model_module": "@jupyter-widgets/controls",
            "_model_module_version": "1.5.0",
            "_model_name": "ProgressStyleModel",
            "_view_count": null,
            "_view_module": "@jupyter-widgets/base",
            "_view_module_version": "1.2.0",
            "_view_name": "StyleView",
            "bar_color": null,
            "description_width": ""
          }
        },
        "2a2010edeff14f70b5510680dd6c5ddd": {
          "model_module": "@jupyter-widgets/controls",
          "model_module_version": "1.5.0",
          "model_name": "ProgressStyleModel",
          "state": {
            "_model_module": "@jupyter-widgets/controls",
            "_model_module_version": "1.5.0",
            "_model_name": "ProgressStyleModel",
            "_view_count": null,
            "_view_module": "@jupyter-widgets/base",
            "_view_module_version": "1.2.0",
            "_view_name": "StyleView",
            "bar_color": null,
            "description_width": ""
          }
        },
        "2b072f4324114641953aecba7a3767ce": {
          "model_module": "@jupyter-widgets/base",
          "model_module_version": "1.2.0",
          "model_name": "LayoutModel",
          "state": {
            "_model_module": "@jupyter-widgets/base",
            "_model_module_version": "1.2.0",
            "_model_name": "LayoutModel",
            "_view_count": null,
            "_view_module": "@jupyter-widgets/base",
            "_view_module_version": "1.2.0",
            "_view_name": "LayoutView",
            "align_content": null,
            "align_items": null,
            "align_self": null,
            "border": null,
            "bottom": null,
            "display": null,
            "flex": null,
            "flex_flow": null,
            "grid_area": null,
            "grid_auto_columns": null,
            "grid_auto_flow": null,
            "grid_auto_rows": null,
            "grid_column": null,
            "grid_gap": null,
            "grid_row": null,
            "grid_template_areas": null,
            "grid_template_columns": null,
            "grid_template_rows": null,
            "height": null,
            "justify_content": null,
            "justify_items": null,
            "left": null,
            "margin": null,
            "max_height": null,
            "max_width": null,
            "min_height": null,
            "min_width": null,
            "object_fit": null,
            "object_position": null,
            "order": null,
            "overflow": null,
            "overflow_x": null,
            "overflow_y": null,
            "padding": null,
            "right": null,
            "top": null,
            "visibility": null,
            "width": null
          }
        },
        "3148aba57d6e48219606a03865dcb0ae": {
          "model_module": "@jupyter-widgets/controls",
          "model_module_version": "1.5.0",
          "model_name": "DescriptionStyleModel",
          "state": {
            "_model_module": "@jupyter-widgets/controls",
            "_model_module_version": "1.5.0",
            "_model_name": "DescriptionStyleModel",
            "_view_count": null,
            "_view_module": "@jupyter-widgets/base",
            "_view_module_version": "1.2.0",
            "_view_name": "StyleView",
            "description_width": ""
          }
        },
        "317f003a5ecb461791b4a7ab105e8240": {
          "model_module": "@jupyter-widgets/base",
          "model_module_version": "1.2.0",
          "model_name": "LayoutModel",
          "state": {
            "_model_module": "@jupyter-widgets/base",
            "_model_module_version": "1.2.0",
            "_model_name": "LayoutModel",
            "_view_count": null,
            "_view_module": "@jupyter-widgets/base",
            "_view_module_version": "1.2.0",
            "_view_name": "LayoutView",
            "align_content": null,
            "align_items": null,
            "align_self": null,
            "border": null,
            "bottom": null,
            "display": null,
            "flex": null,
            "flex_flow": null,
            "grid_area": null,
            "grid_auto_columns": null,
            "grid_auto_flow": null,
            "grid_auto_rows": null,
            "grid_column": null,
            "grid_gap": null,
            "grid_row": null,
            "grid_template_areas": null,
            "grid_template_columns": null,
            "grid_template_rows": null,
            "height": null,
            "justify_content": null,
            "justify_items": null,
            "left": null,
            "margin": null,
            "max_height": null,
            "max_width": null,
            "min_height": null,
            "min_width": null,
            "object_fit": null,
            "object_position": null,
            "order": null,
            "overflow": null,
            "overflow_x": null,
            "overflow_y": null,
            "padding": null,
            "right": null,
            "top": null,
            "visibility": null,
            "width": null
          }
        },
        "31ee5133b27c41f49ed3c0b762d830e3": {
          "model_module": "@jupyter-widgets/base",
          "model_module_version": "1.2.0",
          "model_name": "LayoutModel",
          "state": {
            "_model_module": "@jupyter-widgets/base",
            "_model_module_version": "1.2.0",
            "_model_name": "LayoutModel",
            "_view_count": null,
            "_view_module": "@jupyter-widgets/base",
            "_view_module_version": "1.2.0",
            "_view_name": "LayoutView",
            "align_content": null,
            "align_items": null,
            "align_self": null,
            "border": null,
            "bottom": null,
            "display": null,
            "flex": null,
            "flex_flow": null,
            "grid_area": null,
            "grid_auto_columns": null,
            "grid_auto_flow": null,
            "grid_auto_rows": null,
            "grid_column": null,
            "grid_gap": null,
            "grid_row": null,
            "grid_template_areas": null,
            "grid_template_columns": null,
            "grid_template_rows": null,
            "height": null,
            "justify_content": null,
            "justify_items": null,
            "left": null,
            "margin": null,
            "max_height": null,
            "max_width": null,
            "min_height": null,
            "min_width": null,
            "object_fit": null,
            "object_position": null,
            "order": null,
            "overflow": null,
            "overflow_x": null,
            "overflow_y": null,
            "padding": null,
            "right": null,
            "top": null,
            "visibility": null,
            "width": null
          }
        },
        "3a73012f964f4805bbb7dd4ba198981e": {
          "model_module": "@jupyter-widgets/controls",
          "model_module_version": "1.5.0",
          "model_name": "DescriptionStyleModel",
          "state": {
            "_model_module": "@jupyter-widgets/controls",
            "_model_module_version": "1.5.0",
            "_model_name": "DescriptionStyleModel",
            "_view_count": null,
            "_view_module": "@jupyter-widgets/base",
            "_view_module_version": "1.2.0",
            "_view_name": "StyleView",
            "description_width": ""
          }
        },
        "3af0ff923c444302831d676d779ebb0d": {
          "model_module": "@jupyter-widgets/base",
          "model_module_version": "1.2.0",
          "model_name": "LayoutModel",
          "state": {
            "_model_module": "@jupyter-widgets/base",
            "_model_module_version": "1.2.0",
            "_model_name": "LayoutModel",
            "_view_count": null,
            "_view_module": "@jupyter-widgets/base",
            "_view_module_version": "1.2.0",
            "_view_name": "LayoutView",
            "align_content": null,
            "align_items": null,
            "align_self": null,
            "border": null,
            "bottom": null,
            "display": null,
            "flex": null,
            "flex_flow": null,
            "grid_area": null,
            "grid_auto_columns": null,
            "grid_auto_flow": null,
            "grid_auto_rows": null,
            "grid_column": null,
            "grid_gap": null,
            "grid_row": null,
            "grid_template_areas": null,
            "grid_template_columns": null,
            "grid_template_rows": null,
            "height": null,
            "justify_content": null,
            "justify_items": null,
            "left": null,
            "margin": null,
            "max_height": null,
            "max_width": null,
            "min_height": null,
            "min_width": null,
            "object_fit": null,
            "object_position": null,
            "order": null,
            "overflow": null,
            "overflow_x": null,
            "overflow_y": null,
            "padding": null,
            "right": null,
            "top": null,
            "visibility": null,
            "width": null
          }
        },
        "3b6dcb1cb5d543cd9b5ad464746d5aa4": {
          "model_module": "@jupyter-widgets/controls",
          "model_module_version": "1.5.0",
          "model_name": "FloatProgressModel",
          "state": {
            "_dom_classes": [],
            "_model_module": "@jupyter-widgets/controls",
            "_model_module_version": "1.5.0",
            "_model_name": "FloatProgressModel",
            "_view_count": null,
            "_view_module": "@jupyter-widgets/controls",
            "_view_module_version": "1.5.0",
            "_view_name": "ProgressView",
            "bar_style": "success",
            "description": "",
            "description_tooltip": null,
            "layout": "IPY_MODEL_31ee5133b27c41f49ed3c0b762d830e3",
            "max": 28881,
            "min": 0,
            "orientation": "horizontal",
            "style": "IPY_MODEL_485b625ca90a4658b575f469825e4046",
            "value": 28881
          }
        },
        "3f7b8d37807747269e3e995c3e95c112": {
          "model_module": "@jupyter-widgets/controls",
          "model_module_version": "1.5.0",
          "model_name": "HTMLModel",
          "state": {
            "_dom_classes": [],
            "_model_module": "@jupyter-widgets/controls",
            "_model_module_version": "1.5.0",
            "_model_name": "HTMLModel",
            "_view_count": null,
            "_view_module": "@jupyter-widgets/controls",
            "_view_module_version": "1.5.0",
            "_view_name": "HTMLView",
            "description": "",
            "description_tooltip": null,
            "layout": "IPY_MODEL_3af0ff923c444302831d676d779ebb0d",
            "placeholder": "​",
            "style": "IPY_MODEL_1c07d73f45294b2ab6ccf3e0ad6e1a7e",
            "value": ""
          }
        },
        "3fb2fa68c6904ac99098d68b2336c008": {
          "model_module": "@jupyter-widgets/base",
          "model_module_version": "1.2.0",
          "model_name": "LayoutModel",
          "state": {
            "_model_module": "@jupyter-widgets/base",
            "_model_module_version": "1.2.0",
            "_model_name": "LayoutModel",
            "_view_count": null,
            "_view_module": "@jupyter-widgets/base",
            "_view_module_version": "1.2.0",
            "_view_name": "LayoutView",
            "align_content": null,
            "align_items": null,
            "align_self": null,
            "border": null,
            "bottom": null,
            "display": null,
            "flex": null,
            "flex_flow": null,
            "grid_area": null,
            "grid_auto_columns": null,
            "grid_auto_flow": null,
            "grid_auto_rows": null,
            "grid_column": null,
            "grid_gap": null,
            "grid_row": null,
            "grid_template_areas": null,
            "grid_template_columns": null,
            "grid_template_rows": null,
            "height": null,
            "justify_content": null,
            "justify_items": null,
            "left": null,
            "margin": null,
            "max_height": null,
            "max_width": null,
            "min_height": null,
            "min_width": null,
            "object_fit": null,
            "object_position": null,
            "order": null,
            "overflow": null,
            "overflow_x": null,
            "overflow_y": null,
            "padding": null,
            "right": null,
            "top": null,
            "visibility": null,
            "width": null
          }
        },
        "40197176b60d4ed5a2e50b12fe2f7826": {
          "model_module": "@jupyter-widgets/controls",
          "model_module_version": "1.5.0",
          "model_name": "DescriptionStyleModel",
          "state": {
            "_model_module": "@jupyter-widgets/controls",
            "_model_module_version": "1.5.0",
            "_model_name": "DescriptionStyleModel",
            "_view_count": null,
            "_view_module": "@jupyter-widgets/base",
            "_view_module_version": "1.2.0",
            "_view_name": "StyleView",
            "description_width": ""
          }
        },
        "485b625ca90a4658b575f469825e4046": {
          "model_module": "@jupyter-widgets/controls",
          "model_module_version": "1.5.0",
          "model_name": "ProgressStyleModel",
          "state": {
            "_model_module": "@jupyter-widgets/controls",
            "_model_module_version": "1.5.0",
            "_model_name": "ProgressStyleModel",
            "_view_count": null,
            "_view_module": "@jupyter-widgets/base",
            "_view_module_version": "1.2.0",
            "_view_name": "StyleView",
            "bar_color": null,
            "description_width": ""
          }
        },
        "4a8eb640e9224a3c9ef8af81393ddaab": {
          "model_module": "@jupyter-widgets/base",
          "model_module_version": "1.2.0",
          "model_name": "LayoutModel",
          "state": {
            "_model_module": "@jupyter-widgets/base",
            "_model_module_version": "1.2.0",
            "_model_name": "LayoutModel",
            "_view_count": null,
            "_view_module": "@jupyter-widgets/base",
            "_view_module_version": "1.2.0",
            "_view_name": "LayoutView",
            "align_content": null,
            "align_items": null,
            "align_self": null,
            "border": null,
            "bottom": null,
            "display": null,
            "flex": null,
            "flex_flow": null,
            "grid_area": null,
            "grid_auto_columns": null,
            "grid_auto_flow": null,
            "grid_auto_rows": null,
            "grid_column": null,
            "grid_gap": null,
            "grid_row": null,
            "grid_template_areas": null,
            "grid_template_columns": null,
            "grid_template_rows": null,
            "height": null,
            "justify_content": null,
            "justify_items": null,
            "left": null,
            "margin": null,
            "max_height": null,
            "max_width": null,
            "min_height": null,
            "min_width": null,
            "object_fit": null,
            "object_position": null,
            "order": null,
            "overflow": null,
            "overflow_x": null,
            "overflow_y": null,
            "padding": null,
            "right": null,
            "top": null,
            "visibility": null,
            "width": null
          }
        },
        "4e050cf70d03413888c4c439f9cc3c75": {
          "model_module": "@jupyter-widgets/controls",
          "model_module_version": "1.5.0",
          "model_name": "ProgressStyleModel",
          "state": {
            "_model_module": "@jupyter-widgets/controls",
            "_model_module_version": "1.5.0",
            "_model_name": "ProgressStyleModel",
            "_view_count": null,
            "_view_module": "@jupyter-widgets/base",
            "_view_module_version": "1.2.0",
            "_view_name": "StyleView",
            "bar_color": null,
            "description_width": ""
          }
        },
        "4e1d2315e454461b86752573783c601b": {
          "model_module": "@jupyter-widgets/controls",
          "model_module_version": "1.5.0",
          "model_name": "ProgressStyleModel",
          "state": {
            "_model_module": "@jupyter-widgets/controls",
            "_model_module_version": "1.5.0",
            "_model_name": "ProgressStyleModel",
            "_view_count": null,
            "_view_module": "@jupyter-widgets/base",
            "_view_module_version": "1.2.0",
            "_view_name": "StyleView",
            "bar_color": null,
            "description_width": ""
          }
        },
        "502b0231a5d943de8d006418cb8a09a4": {
          "model_module": "@jupyter-widgets/controls",
          "model_module_version": "1.5.0",
          "model_name": "FloatProgressModel",
          "state": {
            "_dom_classes": [],
            "_model_module": "@jupyter-widgets/controls",
            "_model_module_version": "1.5.0",
            "_model_name": "FloatProgressModel",
            "_view_count": null,
            "_view_module": "@jupyter-widgets/controls",
            "_view_module_version": "1.5.0",
            "_view_name": "ProgressView",
            "bar_style": "success",
            "description": "",
            "description_tooltip": null,
            "layout": "IPY_MODEL_3fb2fa68c6904ac99098d68b2336c008",
            "max": 4542,
            "min": 0,
            "orientation": "horizontal",
            "style": "IPY_MODEL_723e0dbd69be41cd881fd21987610883",
            "value": 4542
          }
        },
        "509a6bc3ef7244eca55d9e7c3c23f517": {
          "model_module": "@jupyter-widgets/controls",
          "model_module_version": "1.5.0",
          "model_name": "HTMLModel",
          "state": {
            "_dom_classes": [],
            "_model_module": "@jupyter-widgets/controls",
            "_model_module_version": "1.5.0",
            "_model_name": "HTMLModel",
            "_view_count": null,
            "_view_module": "@jupyter-widgets/controls",
            "_view_module_version": "1.5.0",
            "_view_name": "HTMLView",
            "description": "",
            "description_tooltip": null,
            "layout": "IPY_MODEL_1c83f990a019450580456685588a5a43",
            "placeholder": "​",
            "style": "IPY_MODEL_6af161cc55124e6caa5e44d39f696409",
            "value": ""
          }
        },
        "51f6d7a5d7af4aaf8ddf46393cdec93e": {
          "model_module": "@jupyter-widgets/base",
          "model_module_version": "1.2.0",
          "model_name": "LayoutModel",
          "state": {
            "_model_module": "@jupyter-widgets/base",
            "_model_module_version": "1.2.0",
            "_model_name": "LayoutModel",
            "_view_count": null,
            "_view_module": "@jupyter-widgets/base",
            "_view_module_version": "1.2.0",
            "_view_name": "LayoutView",
            "align_content": null,
            "align_items": null,
            "align_self": null,
            "border": null,
            "bottom": null,
            "display": null,
            "flex": null,
            "flex_flow": null,
            "grid_area": null,
            "grid_auto_columns": null,
            "grid_auto_flow": null,
            "grid_auto_rows": null,
            "grid_column": null,
            "grid_gap": null,
            "grid_row": null,
            "grid_template_areas": null,
            "grid_template_columns": null,
            "grid_template_rows": null,
            "height": null,
            "justify_content": null,
            "justify_items": null,
            "left": null,
            "margin": null,
            "max_height": null,
            "max_width": null,
            "min_height": null,
            "min_width": null,
            "object_fit": null,
            "object_position": null,
            "order": null,
            "overflow": null,
            "overflow_x": null,
            "overflow_y": null,
            "padding": null,
            "right": null,
            "top": null,
            "visibility": null,
            "width": null
          }
        },
        "51fb1a24d4f54d4abb832055f67f8b3c": {
          "model_module": "@jupyter-widgets/base",
          "model_module_version": "1.2.0",
          "model_name": "LayoutModel",
          "state": {
            "_model_module": "@jupyter-widgets/base",
            "_model_module_version": "1.2.0",
            "_model_name": "LayoutModel",
            "_view_count": null,
            "_view_module": "@jupyter-widgets/base",
            "_view_module_version": "1.2.0",
            "_view_name": "LayoutView",
            "align_content": null,
            "align_items": null,
            "align_self": null,
            "border": null,
            "bottom": null,
            "display": null,
            "flex": null,
            "flex_flow": null,
            "grid_area": null,
            "grid_auto_columns": null,
            "grid_auto_flow": null,
            "grid_auto_rows": null,
            "grid_column": null,
            "grid_gap": null,
            "grid_row": null,
            "grid_template_areas": null,
            "grid_template_columns": null,
            "grid_template_rows": null,
            "height": null,
            "justify_content": null,
            "justify_items": null,
            "left": null,
            "margin": null,
            "max_height": null,
            "max_width": null,
            "min_height": null,
            "min_width": null,
            "object_fit": null,
            "object_position": null,
            "order": null,
            "overflow": null,
            "overflow_x": null,
            "overflow_y": null,
            "padding": null,
            "right": null,
            "top": null,
            "visibility": null,
            "width": null
          }
        },
        "587a16d8879d434ba0fadf3993e03c37": {
          "model_module": "@jupyter-widgets/controls",
          "model_module_version": "1.5.0",
          "model_name": "HBoxModel",
          "state": {
            "_dom_classes": [],
            "_model_module": "@jupyter-widgets/controls",
            "_model_module_version": "1.5.0",
            "_model_name": "HBoxModel",
            "_view_count": null,
            "_view_module": "@jupyter-widgets/controls",
            "_view_module_version": "1.5.0",
            "_view_name": "HBoxView",
            "box_style": "",
            "children": [
              "IPY_MODEL_3f7b8d37807747269e3e995c3e95c112",
              "IPY_MODEL_502b0231a5d943de8d006418cb8a09a4",
              "IPY_MODEL_71be1569e5b44d4bae0414b1f51be27a"
            ],
            "layout": "IPY_MODEL_c5098df4cc9842b4bc5e8630765dc5f8"
          }
        },
        "606532d83ea44f3082bed274a6938870": {
          "model_module": "@jupyter-widgets/base",
          "model_module_version": "1.2.0",
          "model_name": "LayoutModel",
          "state": {
            "_model_module": "@jupyter-widgets/base",
            "_model_module_version": "1.2.0",
            "_model_name": "LayoutModel",
            "_view_count": null,
            "_view_module": "@jupyter-widgets/base",
            "_view_module_version": "1.2.0",
            "_view_name": "LayoutView",
            "align_content": null,
            "align_items": null,
            "align_self": null,
            "border": null,
            "bottom": null,
            "display": null,
            "flex": null,
            "flex_flow": null,
            "grid_area": null,
            "grid_auto_columns": null,
            "grid_auto_flow": null,
            "grid_auto_rows": null,
            "grid_column": null,
            "grid_gap": null,
            "grid_row": null,
            "grid_template_areas": null,
            "grid_template_columns": null,
            "grid_template_rows": null,
            "height": null,
            "justify_content": null,
            "justify_items": null,
            "left": null,
            "margin": null,
            "max_height": null,
            "max_width": null,
            "min_height": null,
            "min_width": null,
            "object_fit": null,
            "object_position": null,
            "order": null,
            "overflow": null,
            "overflow_x": null,
            "overflow_y": null,
            "padding": null,
            "right": null,
            "top": null,
            "visibility": null,
            "width": null
          }
        },
        "613bdda28a184d38b39803d5058e210e": {
          "model_module": "@jupyter-widgets/controls",
          "model_module_version": "1.5.0",
          "model_name": "HTMLModel",
          "state": {
            "_dom_classes": [],
            "_model_module": "@jupyter-widgets/controls",
            "_model_module_version": "1.5.0",
            "_model_name": "HTMLModel",
            "_view_count": null,
            "_view_module": "@jupyter-widgets/controls",
            "_view_module_version": "1.5.0",
            "_view_name": "HTMLView",
            "description": "",
            "description_tooltip": null,
            "layout": "IPY_MODEL_f14264363aed4190a1f22dee9d3cd088",
            "placeholder": "​",
            "style": "IPY_MODEL_647229a70a4940859b00626c8291b377",
            "value": ""
          }
        },
        "62d41ed1637a4e48a374261f845a5157": {
          "model_module": "@jupyter-widgets/controls",
          "model_module_version": "1.5.0",
          "model_name": "DescriptionStyleModel",
          "state": {
            "_model_module": "@jupyter-widgets/controls",
            "_model_module_version": "1.5.0",
            "_model_name": "DescriptionStyleModel",
            "_view_count": null,
            "_view_module": "@jupyter-widgets/base",
            "_view_module_version": "1.2.0",
            "_view_name": "StyleView",
            "description_width": ""
          }
        },
        "647229a70a4940859b00626c8291b377": {
          "model_module": "@jupyter-widgets/controls",
          "model_module_version": "1.5.0",
          "model_name": "DescriptionStyleModel",
          "state": {
            "_model_module": "@jupyter-widgets/controls",
            "_model_module_version": "1.5.0",
            "_model_name": "DescriptionStyleModel",
            "_view_count": null,
            "_view_module": "@jupyter-widgets/base",
            "_view_module_version": "1.2.0",
            "_view_name": "StyleView",
            "description_width": ""
          }
        },
        "6af161cc55124e6caa5e44d39f696409": {
          "model_module": "@jupyter-widgets/controls",
          "model_module_version": "1.5.0",
          "model_name": "DescriptionStyleModel",
          "state": {
            "_model_module": "@jupyter-widgets/controls",
            "_model_module_version": "1.5.0",
            "_model_name": "DescriptionStyleModel",
            "_view_count": null,
            "_view_module": "@jupyter-widgets/base",
            "_view_module_version": "1.2.0",
            "_view_name": "StyleView",
            "description_width": ""
          }
        },
        "6fcbff7fa7ce4830ae8d6709caa68355": {
          "model_module": "@jupyter-widgets/base",
          "model_module_version": "1.2.0",
          "model_name": "LayoutModel",
          "state": {
            "_model_module": "@jupyter-widgets/base",
            "_model_module_version": "1.2.0",
            "_model_name": "LayoutModel",
            "_view_count": null,
            "_view_module": "@jupyter-widgets/base",
            "_view_module_version": "1.2.0",
            "_view_name": "LayoutView",
            "align_content": null,
            "align_items": null,
            "align_self": null,
            "border": null,
            "bottom": null,
            "display": null,
            "flex": null,
            "flex_flow": null,
            "grid_area": null,
            "grid_auto_columns": null,
            "grid_auto_flow": null,
            "grid_auto_rows": null,
            "grid_column": null,
            "grid_gap": null,
            "grid_row": null,
            "grid_template_areas": null,
            "grid_template_columns": null,
            "grid_template_rows": null,
            "height": null,
            "justify_content": null,
            "justify_items": null,
            "left": null,
            "margin": null,
            "max_height": null,
            "max_width": null,
            "min_height": null,
            "min_width": null,
            "object_fit": null,
            "object_position": null,
            "order": null,
            "overflow": null,
            "overflow_x": null,
            "overflow_y": null,
            "padding": null,
            "right": null,
            "top": null,
            "visibility": null,
            "width": null
          }
        },
        "71be1569e5b44d4bae0414b1f51be27a": {
          "model_module": "@jupyter-widgets/controls",
          "model_module_version": "1.5.0",
          "model_name": "HTMLModel",
          "state": {
            "_dom_classes": [],
            "_model_module": "@jupyter-widgets/controls",
            "_model_module_version": "1.5.0",
            "_model_name": "HTMLModel",
            "_view_count": null,
            "_view_module": "@jupyter-widgets/controls",
            "_view_module_version": "1.5.0",
            "_view_name": "HTMLView",
            "description": "",
            "description_tooltip": null,
            "layout": "IPY_MODEL_b0e38e79f7c24b3e80961b016cc9a87a",
            "placeholder": "​",
            "style": "IPY_MODEL_3a73012f964f4805bbb7dd4ba198981e",
            "value": " 5120/? [00:00&lt;00:00, 148713.58it/s]"
          }
        },
        "723e0dbd69be41cd881fd21987610883": {
          "model_module": "@jupyter-widgets/controls",
          "model_module_version": "1.5.0",
          "model_name": "ProgressStyleModel",
          "state": {
            "_model_module": "@jupyter-widgets/controls",
            "_model_module_version": "1.5.0",
            "_model_name": "ProgressStyleModel",
            "_view_count": null,
            "_view_module": "@jupyter-widgets/base",
            "_view_module_version": "1.2.0",
            "_view_name": "StyleView",
            "bar_color": null,
            "description_width": ""
          }
        },
        "73a233b9bed84b3dbbebbbfbc4d011e2": {
          "model_module": "@jupyter-widgets/controls",
          "model_module_version": "1.5.0",
          "model_name": "HTMLModel",
          "state": {
            "_dom_classes": [],
            "_model_module": "@jupyter-widgets/controls",
            "_model_module_version": "1.5.0",
            "_model_name": "HTMLModel",
            "_view_count": null,
            "_view_module": "@jupyter-widgets/controls",
            "_view_module_version": "1.5.0",
            "_view_name": "HTMLView",
            "description": "",
            "description_tooltip": null,
            "layout": "IPY_MODEL_a119396ed44c4690805cad209ed3c71f",
            "placeholder": "​",
            "style": "IPY_MODEL_89832983410447f38a7b77e8bf6cae18",
            "value": " 1649664/? [00:00&lt;00:00, 12810130.05it/s]"
          }
        },
        "76684c93d647408e974f60460446a35d": {
          "model_module": "@jupyter-widgets/controls",
          "model_module_version": "1.5.0",
          "model_name": "ProgressStyleModel",
          "state": {
            "_model_module": "@jupyter-widgets/controls",
            "_model_module_version": "1.5.0",
            "_model_name": "ProgressStyleModel",
            "_view_count": null,
            "_view_module": "@jupyter-widgets/base",
            "_view_module_version": "1.2.0",
            "_view_name": "StyleView",
            "bar_color": null,
            "description_width": ""
          }
        },
        "77f2a44503b7487da4b5d8923fee5863": {
          "model_module": "@jupyter-widgets/controls",
          "model_module_version": "1.5.0",
          "model_name": "FloatProgressModel",
          "state": {
            "_dom_classes": [],
            "_model_module": "@jupyter-widgets/controls",
            "_model_module_version": "1.5.0",
            "_model_name": "FloatProgressModel",
            "_view_count": null,
            "_view_module": "@jupyter-widgets/controls",
            "_view_module_version": "1.5.0",
            "_view_name": "ProgressView",
            "bar_style": "success",
            "description": "",
            "description_tooltip": null,
            "layout": "IPY_MODEL_51f6d7a5d7af4aaf8ddf46393cdec93e",
            "max": 1648877,
            "min": 0,
            "orientation": "horizontal",
            "style": "IPY_MODEL_ee7804f0a08b470cb31a0dfbae500f4c",
            "value": 1648877
          }
        },
        "7d850b8865f641efbae08ce1994465fc": {
          "model_module": "@jupyter-widgets/controls",
          "model_module_version": "1.5.0",
          "model_name": "DescriptionStyleModel",
          "state": {
            "_model_module": "@jupyter-widgets/controls",
            "_model_module_version": "1.5.0",
            "_model_name": "DescriptionStyleModel",
            "_view_count": null,
            "_view_module": "@jupyter-widgets/base",
            "_view_module_version": "1.2.0",
            "_view_name": "StyleView",
            "description_width": ""
          }
        },
        "7e2dfa0820004cd78bffa7bacdfcdca4": {
          "model_module": "@jupyter-widgets/controls",
          "model_module_version": "1.5.0",
          "model_name": "HBoxModel",
          "state": {
            "_dom_classes": [],
            "_model_module": "@jupyter-widgets/controls",
            "_model_module_version": "1.5.0",
            "_model_name": "HBoxModel",
            "_view_count": null,
            "_view_module": "@jupyter-widgets/controls",
            "_view_module_version": "1.5.0",
            "_view_name": "HBoxView",
            "box_style": "",
            "children": [
              "IPY_MODEL_c197b8148d9b472094cf33db4765a7a3",
              "IPY_MODEL_ac6f418240354a4d81d54c550434a528",
              "IPY_MODEL_d6a91425a8234f958c4a400bb57ceeb7"
            ],
            "layout": "IPY_MODEL_d54ab4c0027444ce989e73d24596269c"
          }
        },
        "827deec4e04744d7b5b8f60f6c1921f3": {
          "model_module": "@jupyter-widgets/controls",
          "model_module_version": "1.5.0",
          "model_name": "HBoxModel",
          "state": {
            "_dom_classes": [],
            "_model_module": "@jupyter-widgets/controls",
            "_model_module_version": "1.5.0",
            "_model_name": "HBoxModel",
            "_view_count": null,
            "_view_module": "@jupyter-widgets/controls",
            "_view_module_version": "1.5.0",
            "_view_name": "HBoxView",
            "box_style": "",
            "children": [
              "IPY_MODEL_613bdda28a184d38b39803d5058e210e",
              "IPY_MODEL_77f2a44503b7487da4b5d8923fee5863",
              "IPY_MODEL_73a233b9bed84b3dbbebbbfbc4d011e2"
            ],
            "layout": "IPY_MODEL_e616b4dfa87f48ee9ca0a0e7dbd2d6bd"
          }
        },
        "86de9b36f50445629f856d648c0ff9d9": {
          "model_module": "@jupyter-widgets/base",
          "model_module_version": "1.2.0",
          "model_name": "LayoutModel",
          "state": {
            "_model_module": "@jupyter-widgets/base",
            "_model_module_version": "1.2.0",
            "_model_name": "LayoutModel",
            "_view_count": null,
            "_view_module": "@jupyter-widgets/base",
            "_view_module_version": "1.2.0",
            "_view_name": "LayoutView",
            "align_content": null,
            "align_items": null,
            "align_self": null,
            "border": null,
            "bottom": null,
            "display": null,
            "flex": null,
            "flex_flow": null,
            "grid_area": null,
            "grid_auto_columns": null,
            "grid_auto_flow": null,
            "grid_auto_rows": null,
            "grid_column": null,
            "grid_gap": null,
            "grid_row": null,
            "grid_template_areas": null,
            "grid_template_columns": null,
            "grid_template_rows": null,
            "height": null,
            "justify_content": null,
            "justify_items": null,
            "left": null,
            "margin": null,
            "max_height": null,
            "max_width": null,
            "min_height": null,
            "min_width": null,
            "object_fit": null,
            "object_position": null,
            "order": null,
            "overflow": null,
            "overflow_x": null,
            "overflow_y": null,
            "padding": null,
            "right": null,
            "top": null,
            "visibility": null,
            "width": null
          }
        },
        "89832983410447f38a7b77e8bf6cae18": {
          "model_module": "@jupyter-widgets/controls",
          "model_module_version": "1.5.0",
          "model_name": "DescriptionStyleModel",
          "state": {
            "_model_module": "@jupyter-widgets/controls",
            "_model_module_version": "1.5.0",
            "_model_name": "DescriptionStyleModel",
            "_view_count": null,
            "_view_module": "@jupyter-widgets/base",
            "_view_module_version": "1.2.0",
            "_view_name": "StyleView",
            "description_width": ""
          }
        },
        "89e27df9eff445a08c0da662e555ada1": {
          "model_module": "@jupyter-widgets/controls",
          "model_module_version": "1.5.0",
          "model_name": "DescriptionStyleModel",
          "state": {
            "_model_module": "@jupyter-widgets/controls",
            "_model_module_version": "1.5.0",
            "_model_name": "DescriptionStyleModel",
            "_view_count": null,
            "_view_module": "@jupyter-widgets/base",
            "_view_module_version": "1.2.0",
            "_view_name": "StyleView",
            "description_width": ""
          }
        },
        "8a6b9abe918a49259354bc97e2c9b88c": {
          "model_module": "@jupyter-widgets/controls",
          "model_module_version": "1.5.0",
          "model_name": "HBoxModel",
          "state": {
            "_dom_classes": [],
            "_model_module": "@jupyter-widgets/controls",
            "_model_module_version": "1.5.0",
            "_model_name": "HBoxModel",
            "_view_count": null,
            "_view_module": "@jupyter-widgets/controls",
            "_view_module_version": "1.5.0",
            "_view_name": "HBoxView",
            "box_style": "",
            "children": [
              "IPY_MODEL_9808b56c6c224ea79d08a12bd9ed6fe4",
              "IPY_MODEL_ba6cbbe643c64bbeaa0f65d54dd4cb88",
              "IPY_MODEL_c6c314167561465483b22418bdc0d798"
            ],
            "layout": "IPY_MODEL_4a8eb640e9224a3c9ef8af81393ddaab"
          }
        },
        "8b0d667da522429baa6e6c5fa91b3bc8": {
          "model_module": "@jupyter-widgets/base",
          "model_module_version": "1.2.0",
          "model_name": "LayoutModel",
          "state": {
            "_model_module": "@jupyter-widgets/base",
            "_model_module_version": "1.2.0",
            "_model_name": "LayoutModel",
            "_view_count": null,
            "_view_module": "@jupyter-widgets/base",
            "_view_module_version": "1.2.0",
            "_view_name": "LayoutView",
            "align_content": null,
            "align_items": null,
            "align_self": null,
            "border": null,
            "bottom": null,
            "display": null,
            "flex": null,
            "flex_flow": null,
            "grid_area": null,
            "grid_auto_columns": null,
            "grid_auto_flow": null,
            "grid_auto_rows": null,
            "grid_column": null,
            "grid_gap": null,
            "grid_row": null,
            "grid_template_areas": null,
            "grid_template_columns": null,
            "grid_template_rows": null,
            "height": null,
            "justify_content": null,
            "justify_items": null,
            "left": null,
            "margin": null,
            "max_height": null,
            "max_width": null,
            "min_height": null,
            "min_width": null,
            "object_fit": null,
            "object_position": null,
            "order": null,
            "overflow": null,
            "overflow_x": null,
            "overflow_y": null,
            "padding": null,
            "right": null,
            "top": null,
            "visibility": null,
            "width": null
          }
        },
        "8cfea969ae07406d90e85a8b3e3722b4": {
          "model_module": "@jupyter-widgets/base",
          "model_module_version": "1.2.0",
          "model_name": "LayoutModel",
          "state": {
            "_model_module": "@jupyter-widgets/base",
            "_model_module_version": "1.2.0",
            "_model_name": "LayoutModel",
            "_view_count": null,
            "_view_module": "@jupyter-widgets/base",
            "_view_module_version": "1.2.0",
            "_view_name": "LayoutView",
            "align_content": null,
            "align_items": null,
            "align_self": null,
            "border": null,
            "bottom": null,
            "display": null,
            "flex": null,
            "flex_flow": null,
            "grid_area": null,
            "grid_auto_columns": null,
            "grid_auto_flow": null,
            "grid_auto_rows": null,
            "grid_column": null,
            "grid_gap": null,
            "grid_row": null,
            "grid_template_areas": null,
            "grid_template_columns": null,
            "grid_template_rows": null,
            "height": null,
            "justify_content": null,
            "justify_items": null,
            "left": null,
            "margin": null,
            "max_height": null,
            "max_width": null,
            "min_height": null,
            "min_width": null,
            "object_fit": null,
            "object_position": null,
            "order": null,
            "overflow": null,
            "overflow_x": null,
            "overflow_y": null,
            "padding": null,
            "right": null,
            "top": null,
            "visibility": null,
            "width": null
          }
        },
        "8dbfe986c1b44591b393165cf27017fa": {
          "model_module": "@jupyter-widgets/base",
          "model_module_version": "1.2.0",
          "model_name": "LayoutModel",
          "state": {
            "_model_module": "@jupyter-widgets/base",
            "_model_module_version": "1.2.0",
            "_model_name": "LayoutModel",
            "_view_count": null,
            "_view_module": "@jupyter-widgets/base",
            "_view_module_version": "1.2.0",
            "_view_name": "LayoutView",
            "align_content": null,
            "align_items": null,
            "align_self": null,
            "border": null,
            "bottom": null,
            "display": null,
            "flex": null,
            "flex_flow": null,
            "grid_area": null,
            "grid_auto_columns": null,
            "grid_auto_flow": null,
            "grid_auto_rows": null,
            "grid_column": null,
            "grid_gap": null,
            "grid_row": null,
            "grid_template_areas": null,
            "grid_template_columns": null,
            "grid_template_rows": null,
            "height": null,
            "justify_content": null,
            "justify_items": null,
            "left": null,
            "margin": null,
            "max_height": null,
            "max_width": null,
            "min_height": null,
            "min_width": null,
            "object_fit": null,
            "object_position": null,
            "order": null,
            "overflow": null,
            "overflow_x": null,
            "overflow_y": null,
            "padding": null,
            "right": null,
            "top": null,
            "visibility": null,
            "width": null
          }
        },
        "92cf6b298d284f8e965ebcc30e8e054f": {
          "model_module": "@jupyter-widgets/base",
          "model_module_version": "1.2.0",
          "model_name": "LayoutModel",
          "state": {
            "_model_module": "@jupyter-widgets/base",
            "_model_module_version": "1.2.0",
            "_model_name": "LayoutModel",
            "_view_count": null,
            "_view_module": "@jupyter-widgets/base",
            "_view_module_version": "1.2.0",
            "_view_name": "LayoutView",
            "align_content": null,
            "align_items": null,
            "align_self": null,
            "border": null,
            "bottom": null,
            "display": null,
            "flex": null,
            "flex_flow": null,
            "grid_area": null,
            "grid_auto_columns": null,
            "grid_auto_flow": null,
            "grid_auto_rows": null,
            "grid_column": null,
            "grid_gap": null,
            "grid_row": null,
            "grid_template_areas": null,
            "grid_template_columns": null,
            "grid_template_rows": null,
            "height": null,
            "justify_content": null,
            "justify_items": null,
            "left": null,
            "margin": null,
            "max_height": null,
            "max_width": null,
            "min_height": null,
            "min_width": null,
            "object_fit": null,
            "object_position": null,
            "order": null,
            "overflow": null,
            "overflow_x": null,
            "overflow_y": null,
            "padding": null,
            "right": null,
            "top": null,
            "visibility": null,
            "width": null
          }
        },
        "9808b56c6c224ea79d08a12bd9ed6fe4": {
          "model_module": "@jupyter-widgets/controls",
          "model_module_version": "1.5.0",
          "model_name": "HTMLModel",
          "state": {
            "_dom_classes": [],
            "_model_module": "@jupyter-widgets/controls",
            "_model_module_version": "1.5.0",
            "_model_name": "HTMLModel",
            "_view_count": null,
            "_view_module": "@jupyter-widgets/controls",
            "_view_module_version": "1.5.0",
            "_view_name": "HTMLView",
            "description": "",
            "description_tooltip": null,
            "layout": "IPY_MODEL_51fb1a24d4f54d4abb832055f67f8b3c",
            "placeholder": "​",
            "style": "IPY_MODEL_d8957ccdfc064483ba897f1d9425ddb6",
            "value": ""
          }
        },
        "a119396ed44c4690805cad209ed3c71f": {
          "model_module": "@jupyter-widgets/base",
          "model_module_version": "1.2.0",
          "model_name": "LayoutModel",
          "state": {
            "_model_module": "@jupyter-widgets/base",
            "_model_module_version": "1.2.0",
            "_model_name": "LayoutModel",
            "_view_count": null,
            "_view_module": "@jupyter-widgets/base",
            "_view_module_version": "1.2.0",
            "_view_name": "LayoutView",
            "align_content": null,
            "align_items": null,
            "align_self": null,
            "border": null,
            "bottom": null,
            "display": null,
            "flex": null,
            "flex_flow": null,
            "grid_area": null,
            "grid_auto_columns": null,
            "grid_auto_flow": null,
            "grid_auto_rows": null,
            "grid_column": null,
            "grid_gap": null,
            "grid_row": null,
            "grid_template_areas": null,
            "grid_template_columns": null,
            "grid_template_rows": null,
            "height": null,
            "justify_content": null,
            "justify_items": null,
            "left": null,
            "margin": null,
            "max_height": null,
            "max_width": null,
            "min_height": null,
            "min_width": null,
            "object_fit": null,
            "object_position": null,
            "order": null,
            "overflow": null,
            "overflow_x": null,
            "overflow_y": null,
            "padding": null,
            "right": null,
            "top": null,
            "visibility": null,
            "width": null
          }
        },
        "a453328885e641809fa1ac81b5fa110c": {
          "model_module": "@jupyter-widgets/base",
          "model_module_version": "1.2.0",
          "model_name": "LayoutModel",
          "state": {
            "_model_module": "@jupyter-widgets/base",
            "_model_module_version": "1.2.0",
            "_model_name": "LayoutModel",
            "_view_count": null,
            "_view_module": "@jupyter-widgets/base",
            "_view_module_version": "1.2.0",
            "_view_name": "LayoutView",
            "align_content": null,
            "align_items": null,
            "align_self": null,
            "border": null,
            "bottom": null,
            "display": null,
            "flex": null,
            "flex_flow": null,
            "grid_area": null,
            "grid_auto_columns": null,
            "grid_auto_flow": null,
            "grid_auto_rows": null,
            "grid_column": null,
            "grid_gap": null,
            "grid_row": null,
            "grid_template_areas": null,
            "grid_template_columns": null,
            "grid_template_rows": null,
            "height": null,
            "justify_content": null,
            "justify_items": null,
            "left": null,
            "margin": null,
            "max_height": null,
            "max_width": null,
            "min_height": null,
            "min_width": null,
            "object_fit": null,
            "object_position": null,
            "order": null,
            "overflow": null,
            "overflow_x": null,
            "overflow_y": null,
            "padding": null,
            "right": null,
            "top": null,
            "visibility": null,
            "width": null
          }
        },
        "a5d46ea20c9645aebb0cdb1a07c28760": {
          "model_module": "@jupyter-widgets/controls",
          "model_module_version": "1.5.0",
          "model_name": "HTMLModel",
          "state": {
            "_dom_classes": [],
            "_model_module": "@jupyter-widgets/controls",
            "_model_module_version": "1.5.0",
            "_model_name": "HTMLModel",
            "_view_count": null,
            "_view_module": "@jupyter-widgets/controls",
            "_view_module_version": "1.5.0",
            "_view_name": "HTMLView",
            "description": "",
            "description_tooltip": null,
            "layout": "IPY_MODEL_317f003a5ecb461791b4a7ab105e8240",
            "placeholder": "​",
            "style": "IPY_MODEL_7d850b8865f641efbae08ce1994465fc",
            "value": " 29696/? [00:00&lt;00:00, 707038.66it/s]"
          }
        },
        "aa41f4da0ac04850876fba61aa851f0b": {
          "model_module": "@jupyter-widgets/controls",
          "model_module_version": "1.5.0",
          "model_name": "HBoxModel",
          "state": {
            "_dom_classes": [],
            "_model_module": "@jupyter-widgets/controls",
            "_model_module_version": "1.5.0",
            "_model_name": "HBoxModel",
            "_view_count": null,
            "_view_module": "@jupyter-widgets/controls",
            "_view_module_version": "1.5.0",
            "_view_name": "HBoxView",
            "box_style": "",
            "children": [
              "IPY_MODEL_d329b94fcd8445fe9713f36c1957c757",
              "IPY_MODEL_cd8b70badd8345baba2c24fd49c1b388",
              "IPY_MODEL_b1f66594dfa744208a0006173c6fde22"
            ],
            "layout": "IPY_MODEL_8b0d667da522429baa6e6c5fa91b3bc8"
          }
        },
        "ac05a32f2ce446ef91d0384f40d4ebac": {
          "model_module": "@jupyter-widgets/controls",
          "model_module_version": "1.5.0",
          "model_name": "HTMLModel",
          "state": {
            "_dom_classes": [],
            "_model_module": "@jupyter-widgets/controls",
            "_model_module_version": "1.5.0",
            "_model_name": "HTMLModel",
            "_view_count": null,
            "_view_module": "@jupyter-widgets/controls",
            "_view_module_version": "1.5.0",
            "_view_name": "HTMLView",
            "description": "",
            "description_tooltip": null,
            "layout": "IPY_MODEL_186c9030d0384d17bf9470519531c62f",
            "placeholder": "​",
            "style": "IPY_MODEL_02babd46bfb445c68e7222120eab7252",
            "value": " 9913344/? [00:00&lt;00:00, 42590488.12it/s]"
          }
        },
        "ac6f418240354a4d81d54c550434a528": {
          "model_module": "@jupyter-widgets/controls",
          "model_module_version": "1.5.0",
          "model_name": "FloatProgressModel",
          "state": {
            "_dom_classes": [],
            "_model_module": "@jupyter-widgets/controls",
            "_model_module_version": "1.5.0",
            "_model_name": "FloatProgressModel",
            "_view_count": null,
            "_view_module": "@jupyter-widgets/controls",
            "_view_module_version": "1.5.0",
            "_view_name": "ProgressView",
            "bar_style": "success",
            "description": "",
            "description_tooltip": null,
            "layout": "IPY_MODEL_d562ad3bb7a64ee4938a3cfc69f808c3",
            "max": 1648877,
            "min": 0,
            "orientation": "horizontal",
            "style": "IPY_MODEL_4e1d2315e454461b86752573783c601b",
            "value": 1648877
          }
        },
        "ad01b6835e3948e3a87b153a6119ca09": {
          "model_module": "@jupyter-widgets/controls",
          "model_module_version": "1.5.0",
          "model_name": "DescriptionStyleModel",
          "state": {
            "_model_module": "@jupyter-widgets/controls",
            "_model_module_version": "1.5.0",
            "_model_name": "DescriptionStyleModel",
            "_view_count": null,
            "_view_module": "@jupyter-widgets/base",
            "_view_module_version": "1.2.0",
            "_view_name": "StyleView",
            "description_width": ""
          }
        },
        "ada6e8ffa3084e99a3e5d47281afabbb": {
          "model_module": "@jupyter-widgets/base",
          "model_module_version": "1.2.0",
          "model_name": "LayoutModel",
          "state": {
            "_model_module": "@jupyter-widgets/base",
            "_model_module_version": "1.2.0",
            "_model_name": "LayoutModel",
            "_view_count": null,
            "_view_module": "@jupyter-widgets/base",
            "_view_module_version": "1.2.0",
            "_view_name": "LayoutView",
            "align_content": null,
            "align_items": null,
            "align_self": null,
            "border": null,
            "bottom": null,
            "display": null,
            "flex": null,
            "flex_flow": null,
            "grid_area": null,
            "grid_auto_columns": null,
            "grid_auto_flow": null,
            "grid_auto_rows": null,
            "grid_column": null,
            "grid_gap": null,
            "grid_row": null,
            "grid_template_areas": null,
            "grid_template_columns": null,
            "grid_template_rows": null,
            "height": null,
            "justify_content": null,
            "justify_items": null,
            "left": null,
            "margin": null,
            "max_height": null,
            "max_width": null,
            "min_height": null,
            "min_width": null,
            "object_fit": null,
            "object_position": null,
            "order": null,
            "overflow": null,
            "overflow_x": null,
            "overflow_y": null,
            "padding": null,
            "right": null,
            "top": null,
            "visibility": null,
            "width": null
          }
        },
        "b0a8da9497f64aaaabfb3c27e573ad2d": {
          "model_module": "@jupyter-widgets/controls",
          "model_module_version": "1.5.0",
          "model_name": "HTMLModel",
          "state": {
            "_dom_classes": [],
            "_model_module": "@jupyter-widgets/controls",
            "_model_module_version": "1.5.0",
            "_model_name": "HTMLModel",
            "_view_count": null,
            "_view_module": "@jupyter-widgets/controls",
            "_view_module_version": "1.5.0",
            "_view_name": "HTMLView",
            "description": "",
            "description_tooltip": null,
            "layout": "IPY_MODEL_92cf6b298d284f8e965ebcc30e8e054f",
            "placeholder": "​",
            "style": "IPY_MODEL_62d41ed1637a4e48a374261f845a5157",
            "value": ""
          }
        },
        "b0e38e79f7c24b3e80961b016cc9a87a": {
          "model_module": "@jupyter-widgets/base",
          "model_module_version": "1.2.0",
          "model_name": "LayoutModel",
          "state": {
            "_model_module": "@jupyter-widgets/base",
            "_model_module_version": "1.2.0",
            "_model_name": "LayoutModel",
            "_view_count": null,
            "_view_module": "@jupyter-widgets/base",
            "_view_module_version": "1.2.0",
            "_view_name": "LayoutView",
            "align_content": null,
            "align_items": null,
            "align_self": null,
            "border": null,
            "bottom": null,
            "display": null,
            "flex": null,
            "flex_flow": null,
            "grid_area": null,
            "grid_auto_columns": null,
            "grid_auto_flow": null,
            "grid_auto_rows": null,
            "grid_column": null,
            "grid_gap": null,
            "grid_row": null,
            "grid_template_areas": null,
            "grid_template_columns": null,
            "grid_template_rows": null,
            "height": null,
            "justify_content": null,
            "justify_items": null,
            "left": null,
            "margin": null,
            "max_height": null,
            "max_width": null,
            "min_height": null,
            "min_width": null,
            "object_fit": null,
            "object_position": null,
            "order": null,
            "overflow": null,
            "overflow_x": null,
            "overflow_y": null,
            "padding": null,
            "right": null,
            "top": null,
            "visibility": null,
            "width": null
          }
        },
        "b1f66594dfa744208a0006173c6fde22": {
          "model_module": "@jupyter-widgets/controls",
          "model_module_version": "1.5.0",
          "model_name": "HTMLModel",
          "state": {
            "_dom_classes": [],
            "_model_module": "@jupyter-widgets/controls",
            "_model_module_version": "1.5.0",
            "_model_name": "HTMLModel",
            "_view_count": null,
            "_view_module": "@jupyter-widgets/controls",
            "_view_module_version": "1.5.0",
            "_view_name": "HTMLView",
            "description": "",
            "description_tooltip": null,
            "layout": "IPY_MODEL_fb3b998eb04d4758bd3be4e98ca22241",
            "placeholder": "​",
            "style": "IPY_MODEL_b7009b6b069343268438ed704c3c49f7",
            "value": " 5120/? [00:00&lt;00:00, 120821.63it/s]"
          }
        },
        "b7009b6b069343268438ed704c3c49f7": {
          "model_module": "@jupyter-widgets/controls",
          "model_module_version": "1.5.0",
          "model_name": "DescriptionStyleModel",
          "state": {
            "_model_module": "@jupyter-widgets/controls",
            "_model_module_version": "1.5.0",
            "_model_name": "DescriptionStyleModel",
            "_view_count": null,
            "_view_module": "@jupyter-widgets/base",
            "_view_module_version": "1.2.0",
            "_view_name": "StyleView",
            "description_width": ""
          }
        },
        "b761230bae4942deba377e5a2ff2ca6a": {
          "model_module": "@jupyter-widgets/controls",
          "model_module_version": "1.5.0",
          "model_name": "HBoxModel",
          "state": {
            "_dom_classes": [],
            "_model_module": "@jupyter-widgets/controls",
            "_model_module_version": "1.5.0",
            "_model_name": "HBoxModel",
            "_view_count": null,
            "_view_module": "@jupyter-widgets/controls",
            "_view_module_version": "1.5.0",
            "_view_name": "HBoxView",
            "box_style": "",
            "children": [
              "IPY_MODEL_b0a8da9497f64aaaabfb3c27e573ad2d",
              "IPY_MODEL_d8b883076e024d899b5a89789bb28eb9",
              "IPY_MODEL_d555e8cf03ca4eceb75dccb7cd9d2453"
            ],
            "layout": "IPY_MODEL_a453328885e641809fa1ac81b5fa110c"
          }
        },
        "b840f67d7dc04b218ae00f9540032803": {
          "model_module": "@jupyter-widgets/base",
          "model_module_version": "1.2.0",
          "model_name": "LayoutModel",
          "state": {
            "_model_module": "@jupyter-widgets/base",
            "_model_module_version": "1.2.0",
            "_model_name": "LayoutModel",
            "_view_count": null,
            "_view_module": "@jupyter-widgets/base",
            "_view_module_version": "1.2.0",
            "_view_name": "LayoutView",
            "align_content": null,
            "align_items": null,
            "align_self": null,
            "border": null,
            "bottom": null,
            "display": null,
            "flex": null,
            "flex_flow": null,
            "grid_area": null,
            "grid_auto_columns": null,
            "grid_auto_flow": null,
            "grid_auto_rows": null,
            "grid_column": null,
            "grid_gap": null,
            "grid_row": null,
            "grid_template_areas": null,
            "grid_template_columns": null,
            "grid_template_rows": null,
            "height": null,
            "justify_content": null,
            "justify_items": null,
            "left": null,
            "margin": null,
            "max_height": null,
            "max_width": null,
            "min_height": null,
            "min_width": null,
            "object_fit": null,
            "object_position": null,
            "order": null,
            "overflow": null,
            "overflow_x": null,
            "overflow_y": null,
            "padding": null,
            "right": null,
            "top": null,
            "visibility": null,
            "width": null
          }
        },
        "ba6cbbe643c64bbeaa0f65d54dd4cb88": {
          "model_module": "@jupyter-widgets/controls",
          "model_module_version": "1.5.0",
          "model_name": "FloatProgressModel",
          "state": {
            "_dom_classes": [],
            "_model_module": "@jupyter-widgets/controls",
            "_model_module_version": "1.5.0",
            "_model_name": "FloatProgressModel",
            "_view_count": null,
            "_view_module": "@jupyter-widgets/controls",
            "_view_module_version": "1.5.0",
            "_view_name": "ProgressView",
            "bar_style": "success",
            "description": "",
            "description_tooltip": null,
            "layout": "IPY_MODEL_05b7066cf9d744609e671893565205a6",
            "max": 9912422,
            "min": 0,
            "orientation": "horizontal",
            "style": "IPY_MODEL_76684c93d647408e974f60460446a35d",
            "value": 9912422
          }
        },
        "ba77936181114d488e60e1e9eb0ce9d7": {
          "model_module": "@jupyter-widgets/controls",
          "model_module_version": "1.5.0",
          "model_name": "HTMLModel",
          "state": {
            "_dom_classes": [],
            "_model_module": "@jupyter-widgets/controls",
            "_model_module_version": "1.5.0",
            "_model_name": "HTMLModel",
            "_view_count": null,
            "_view_module": "@jupyter-widgets/controls",
            "_view_module_version": "1.5.0",
            "_view_name": "HTMLView",
            "description": "",
            "description_tooltip": null,
            "layout": "IPY_MODEL_f581d3c6009849c789a59027777e2837",
            "placeholder": "​",
            "style": "IPY_MODEL_fb75186496f94fe2aae2b048f220b50a",
            "value": ""
          }
        },
        "c0fbcb1161544e01935df9ad534492e7": {
          "model_module": "@jupyter-widgets/controls",
          "model_module_version": "1.5.0",
          "model_name": "FloatProgressModel",
          "state": {
            "_dom_classes": [],
            "_model_module": "@jupyter-widgets/controls",
            "_model_module_version": "1.5.0",
            "_model_name": "FloatProgressModel",
            "_view_count": null,
            "_view_module": "@jupyter-widgets/controls",
            "_view_module_version": "1.5.0",
            "_view_name": "ProgressView",
            "bar_style": "success",
            "description": "",
            "description_tooltip": null,
            "layout": "IPY_MODEL_b840f67d7dc04b218ae00f9540032803",
            "max": 9912422,
            "min": 0,
            "orientation": "horizontal",
            "style": "IPY_MODEL_29462ffec16f4ba8b9ce2b0f6dfe48e7",
            "value": 9912422
          }
        },
        "c197b8148d9b472094cf33db4765a7a3": {
          "model_module": "@jupyter-widgets/controls",
          "model_module_version": "1.5.0",
          "model_name": "HTMLModel",
          "state": {
            "_dom_classes": [],
            "_model_module": "@jupyter-widgets/controls",
            "_model_module_version": "1.5.0",
            "_model_name": "HTMLModel",
            "_view_count": null,
            "_view_module": "@jupyter-widgets/controls",
            "_view_module_version": "1.5.0",
            "_view_name": "HTMLView",
            "description": "",
            "description_tooltip": null,
            "layout": "IPY_MODEL_8dbfe986c1b44591b393165cf27017fa",
            "placeholder": "​",
            "style": "IPY_MODEL_ad01b6835e3948e3a87b153a6119ca09",
            "value": ""
          }
        },
        "c3cd4d5801ac44ff82f84ab6bb935451": {
          "model_module": "@jupyter-widgets/controls",
          "model_module_version": "1.5.0",
          "model_name": "HBoxModel",
          "state": {
            "_dom_classes": [],
            "_model_module": "@jupyter-widgets/controls",
            "_model_module_version": "1.5.0",
            "_model_name": "HBoxModel",
            "_view_count": null,
            "_view_module": "@jupyter-widgets/controls",
            "_view_module_version": "1.5.0",
            "_view_name": "HBoxView",
            "box_style": "",
            "children": [
              "IPY_MODEL_509a6bc3ef7244eca55d9e7c3c23f517",
              "IPY_MODEL_c0fbcb1161544e01935df9ad534492e7",
              "IPY_MODEL_ac05a32f2ce446ef91d0384f40d4ebac"
            ],
            "layout": "IPY_MODEL_2b072f4324114641953aecba7a3767ce"
          }
        },
        "c5098df4cc9842b4bc5e8630765dc5f8": {
          "model_module": "@jupyter-widgets/base",
          "model_module_version": "1.2.0",
          "model_name": "LayoutModel",
          "state": {
            "_model_module": "@jupyter-widgets/base",
            "_model_module_version": "1.2.0",
            "_model_name": "LayoutModel",
            "_view_count": null,
            "_view_module": "@jupyter-widgets/base",
            "_view_module_version": "1.2.0",
            "_view_name": "LayoutView",
            "align_content": null,
            "align_items": null,
            "align_self": null,
            "border": null,
            "bottom": null,
            "display": null,
            "flex": null,
            "flex_flow": null,
            "grid_area": null,
            "grid_auto_columns": null,
            "grid_auto_flow": null,
            "grid_auto_rows": null,
            "grid_column": null,
            "grid_gap": null,
            "grid_row": null,
            "grid_template_areas": null,
            "grid_template_columns": null,
            "grid_template_rows": null,
            "height": null,
            "justify_content": null,
            "justify_items": null,
            "left": null,
            "margin": null,
            "max_height": null,
            "max_width": null,
            "min_height": null,
            "min_width": null,
            "object_fit": null,
            "object_position": null,
            "order": null,
            "overflow": null,
            "overflow_x": null,
            "overflow_y": null,
            "padding": null,
            "right": null,
            "top": null,
            "visibility": null,
            "width": null
          }
        },
        "c6c314167561465483b22418bdc0d798": {
          "model_module": "@jupyter-widgets/controls",
          "model_module_version": "1.5.0",
          "model_name": "HTMLModel",
          "state": {
            "_dom_classes": [],
            "_model_module": "@jupyter-widgets/controls",
            "_model_module_version": "1.5.0",
            "_model_name": "HTMLModel",
            "_view_count": null,
            "_view_module": "@jupyter-widgets/controls",
            "_view_module_version": "1.5.0",
            "_view_name": "HTMLView",
            "description": "",
            "description_tooltip": null,
            "layout": "IPY_MODEL_6fcbff7fa7ce4830ae8d6709caa68355",
            "placeholder": "​",
            "style": "IPY_MODEL_40197176b60d4ed5a2e50b12fe2f7826",
            "value": " 9913344/? [00:00&lt;00:00, 45483884.37it/s]"
          }
        },
        "cd8b70badd8345baba2c24fd49c1b388": {
          "model_module": "@jupyter-widgets/controls",
          "model_module_version": "1.5.0",
          "model_name": "FloatProgressModel",
          "state": {
            "_dom_classes": [],
            "_model_module": "@jupyter-widgets/controls",
            "_model_module_version": "1.5.0",
            "_model_name": "FloatProgressModel",
            "_view_count": null,
            "_view_module": "@jupyter-widgets/controls",
            "_view_module_version": "1.5.0",
            "_view_name": "ProgressView",
            "bar_style": "success",
            "description": "",
            "description_tooltip": null,
            "layout": "IPY_MODEL_86de9b36f50445629f856d648c0ff9d9",
            "max": 4542,
            "min": 0,
            "orientation": "horizontal",
            "style": "IPY_MODEL_4e050cf70d03413888c4c439f9cc3c75",
            "value": 4542
          }
        },
        "d329b94fcd8445fe9713f36c1957c757": {
          "model_module": "@jupyter-widgets/controls",
          "model_module_version": "1.5.0",
          "model_name": "HTMLModel",
          "state": {
            "_dom_classes": [],
            "_model_module": "@jupyter-widgets/controls",
            "_model_module_version": "1.5.0",
            "_model_name": "HTMLModel",
            "_view_count": null,
            "_view_module": "@jupyter-widgets/controls",
            "_view_module_version": "1.5.0",
            "_view_name": "HTMLView",
            "description": "",
            "description_tooltip": null,
            "layout": "IPY_MODEL_606532d83ea44f3082bed274a6938870",
            "placeholder": "​",
            "style": "IPY_MODEL_f35db29aab4a439fa72358edf6f5f57c",
            "value": ""
          }
        },
        "d54ab4c0027444ce989e73d24596269c": {
          "model_module": "@jupyter-widgets/base",
          "model_module_version": "1.2.0",
          "model_name": "LayoutModel",
          "state": {
            "_model_module": "@jupyter-widgets/base",
            "_model_module_version": "1.2.0",
            "_model_name": "LayoutModel",
            "_view_count": null,
            "_view_module": "@jupyter-widgets/base",
            "_view_module_version": "1.2.0",
            "_view_name": "LayoutView",
            "align_content": null,
            "align_items": null,
            "align_self": null,
            "border": null,
            "bottom": null,
            "display": null,
            "flex": null,
            "flex_flow": null,
            "grid_area": null,
            "grid_auto_columns": null,
            "grid_auto_flow": null,
            "grid_auto_rows": null,
            "grid_column": null,
            "grid_gap": null,
            "grid_row": null,
            "grid_template_areas": null,
            "grid_template_columns": null,
            "grid_template_rows": null,
            "height": null,
            "justify_content": null,
            "justify_items": null,
            "left": null,
            "margin": null,
            "max_height": null,
            "max_width": null,
            "min_height": null,
            "min_width": null,
            "object_fit": null,
            "object_position": null,
            "order": null,
            "overflow": null,
            "overflow_x": null,
            "overflow_y": null,
            "padding": null,
            "right": null,
            "top": null,
            "visibility": null,
            "width": null
          }
        },
        "d555e8cf03ca4eceb75dccb7cd9d2453": {
          "model_module": "@jupyter-widgets/controls",
          "model_module_version": "1.5.0",
          "model_name": "HTMLModel",
          "state": {
            "_dom_classes": [],
            "_model_module": "@jupyter-widgets/controls",
            "_model_module_version": "1.5.0",
            "_model_name": "HTMLModel",
            "_view_count": null,
            "_view_module": "@jupyter-widgets/controls",
            "_view_module_version": "1.5.0",
            "_view_name": "HTMLView",
            "description": "",
            "description_tooltip": null,
            "layout": "IPY_MODEL_8cfea969ae07406d90e85a8b3e3722b4",
            "placeholder": "​",
            "style": "IPY_MODEL_3148aba57d6e48219606a03865dcb0ae",
            "value": " 29696/? [00:00&lt;00:00, 781079.44it/s]"
          }
        },
        "d562ad3bb7a64ee4938a3cfc69f808c3": {
          "model_module": "@jupyter-widgets/base",
          "model_module_version": "1.2.0",
          "model_name": "LayoutModel",
          "state": {
            "_model_module": "@jupyter-widgets/base",
            "_model_module_version": "1.2.0",
            "_model_name": "LayoutModel",
            "_view_count": null,
            "_view_module": "@jupyter-widgets/base",
            "_view_module_version": "1.2.0",
            "_view_name": "LayoutView",
            "align_content": null,
            "align_items": null,
            "align_self": null,
            "border": null,
            "bottom": null,
            "display": null,
            "flex": null,
            "flex_flow": null,
            "grid_area": null,
            "grid_auto_columns": null,
            "grid_auto_flow": null,
            "grid_auto_rows": null,
            "grid_column": null,
            "grid_gap": null,
            "grid_row": null,
            "grid_template_areas": null,
            "grid_template_columns": null,
            "grid_template_rows": null,
            "height": null,
            "justify_content": null,
            "justify_items": null,
            "left": null,
            "margin": null,
            "max_height": null,
            "max_width": null,
            "min_height": null,
            "min_width": null,
            "object_fit": null,
            "object_position": null,
            "order": null,
            "overflow": null,
            "overflow_x": null,
            "overflow_y": null,
            "padding": null,
            "right": null,
            "top": null,
            "visibility": null,
            "width": null
          }
        },
        "d6a91425a8234f958c4a400bb57ceeb7": {
          "model_module": "@jupyter-widgets/controls",
          "model_module_version": "1.5.0",
          "model_name": "HTMLModel",
          "state": {
            "_dom_classes": [],
            "_model_module": "@jupyter-widgets/controls",
            "_model_module_version": "1.5.0",
            "_model_name": "HTMLModel",
            "_view_count": null,
            "_view_module": "@jupyter-widgets/controls",
            "_view_module_version": "1.5.0",
            "_view_name": "HTMLView",
            "description": "",
            "description_tooltip": null,
            "layout": "IPY_MODEL_ada6e8ffa3084e99a3e5d47281afabbb",
            "placeholder": "​",
            "style": "IPY_MODEL_89e27df9eff445a08c0da662e555ada1",
            "value": " 1649664/? [00:00&lt;00:00, 3556888.78it/s]"
          }
        },
        "d8957ccdfc064483ba897f1d9425ddb6": {
          "model_module": "@jupyter-widgets/controls",
          "model_module_version": "1.5.0",
          "model_name": "DescriptionStyleModel",
          "state": {
            "_model_module": "@jupyter-widgets/controls",
            "_model_module_version": "1.5.0",
            "_model_name": "DescriptionStyleModel",
            "_view_count": null,
            "_view_module": "@jupyter-widgets/base",
            "_view_module_version": "1.2.0",
            "_view_name": "StyleView",
            "description_width": ""
          }
        },
        "d8b883076e024d899b5a89789bb28eb9": {
          "model_module": "@jupyter-widgets/controls",
          "model_module_version": "1.5.0",
          "model_name": "FloatProgressModel",
          "state": {
            "_dom_classes": [],
            "_model_module": "@jupyter-widgets/controls",
            "_model_module_version": "1.5.0",
            "_model_name": "FloatProgressModel",
            "_view_count": null,
            "_view_module": "@jupyter-widgets/controls",
            "_view_module_version": "1.5.0",
            "_view_name": "ProgressView",
            "bar_style": "success",
            "description": "",
            "description_tooltip": null,
            "layout": "IPY_MODEL_16ae42b1b28c47a48054138eb0278f33",
            "max": 28881,
            "min": 0,
            "orientation": "horizontal",
            "style": "IPY_MODEL_2a2010edeff14f70b5510680dd6c5ddd",
            "value": 28881
          }
        },
        "e616b4dfa87f48ee9ca0a0e7dbd2d6bd": {
          "model_module": "@jupyter-widgets/base",
          "model_module_version": "1.2.0",
          "model_name": "LayoutModel",
          "state": {
            "_model_module": "@jupyter-widgets/base",
            "_model_module_version": "1.2.0",
            "_model_name": "LayoutModel",
            "_view_count": null,
            "_view_module": "@jupyter-widgets/base",
            "_view_module_version": "1.2.0",
            "_view_name": "LayoutView",
            "align_content": null,
            "align_items": null,
            "align_self": null,
            "border": null,
            "bottom": null,
            "display": null,
            "flex": null,
            "flex_flow": null,
            "grid_area": null,
            "grid_auto_columns": null,
            "grid_auto_flow": null,
            "grid_auto_rows": null,
            "grid_column": null,
            "grid_gap": null,
            "grid_row": null,
            "grid_template_areas": null,
            "grid_template_columns": null,
            "grid_template_rows": null,
            "height": null,
            "justify_content": null,
            "justify_items": null,
            "left": null,
            "margin": null,
            "max_height": null,
            "max_width": null,
            "min_height": null,
            "min_width": null,
            "object_fit": null,
            "object_position": null,
            "order": null,
            "overflow": null,
            "overflow_x": null,
            "overflow_y": null,
            "padding": null,
            "right": null,
            "top": null,
            "visibility": null,
            "width": null
          }
        },
        "e63e8369a5fe4f8eaadaeca7e718ab5f": {
          "model_module": "@jupyter-widgets/base",
          "model_module_version": "1.2.0",
          "model_name": "LayoutModel",
          "state": {
            "_model_module": "@jupyter-widgets/base",
            "_model_module_version": "1.2.0",
            "_model_name": "LayoutModel",
            "_view_count": null,
            "_view_module": "@jupyter-widgets/base",
            "_view_module_version": "1.2.0",
            "_view_name": "LayoutView",
            "align_content": null,
            "align_items": null,
            "align_self": null,
            "border": null,
            "bottom": null,
            "display": null,
            "flex": null,
            "flex_flow": null,
            "grid_area": null,
            "grid_auto_columns": null,
            "grid_auto_flow": null,
            "grid_auto_rows": null,
            "grid_column": null,
            "grid_gap": null,
            "grid_row": null,
            "grid_template_areas": null,
            "grid_template_columns": null,
            "grid_template_rows": null,
            "height": null,
            "justify_content": null,
            "justify_items": null,
            "left": null,
            "margin": null,
            "max_height": null,
            "max_width": null,
            "min_height": null,
            "min_width": null,
            "object_fit": null,
            "object_position": null,
            "order": null,
            "overflow": null,
            "overflow_x": null,
            "overflow_y": null,
            "padding": null,
            "right": null,
            "top": null,
            "visibility": null,
            "width": null
          }
        },
        "ee7804f0a08b470cb31a0dfbae500f4c": {
          "model_module": "@jupyter-widgets/controls",
          "model_module_version": "1.5.0",
          "model_name": "ProgressStyleModel",
          "state": {
            "_model_module": "@jupyter-widgets/controls",
            "_model_module_version": "1.5.0",
            "_model_name": "ProgressStyleModel",
            "_view_count": null,
            "_view_module": "@jupyter-widgets/base",
            "_view_module_version": "1.2.0",
            "_view_name": "StyleView",
            "bar_color": null,
            "description_width": ""
          }
        },
        "f14264363aed4190a1f22dee9d3cd088": {
          "model_module": "@jupyter-widgets/base",
          "model_module_version": "1.2.0",
          "model_name": "LayoutModel",
          "state": {
            "_model_module": "@jupyter-widgets/base",
            "_model_module_version": "1.2.0",
            "_model_name": "LayoutModel",
            "_view_count": null,
            "_view_module": "@jupyter-widgets/base",
            "_view_module_version": "1.2.0",
            "_view_name": "LayoutView",
            "align_content": null,
            "align_items": null,
            "align_self": null,
            "border": null,
            "bottom": null,
            "display": null,
            "flex": null,
            "flex_flow": null,
            "grid_area": null,
            "grid_auto_columns": null,
            "grid_auto_flow": null,
            "grid_auto_rows": null,
            "grid_column": null,
            "grid_gap": null,
            "grid_row": null,
            "grid_template_areas": null,
            "grid_template_columns": null,
            "grid_template_rows": null,
            "height": null,
            "justify_content": null,
            "justify_items": null,
            "left": null,
            "margin": null,
            "max_height": null,
            "max_width": null,
            "min_height": null,
            "min_width": null,
            "object_fit": null,
            "object_position": null,
            "order": null,
            "overflow": null,
            "overflow_x": null,
            "overflow_y": null,
            "padding": null,
            "right": null,
            "top": null,
            "visibility": null,
            "width": null
          }
        },
        "f35db29aab4a439fa72358edf6f5f57c": {
          "model_module": "@jupyter-widgets/controls",
          "model_module_version": "1.5.0",
          "model_name": "DescriptionStyleModel",
          "state": {
            "_model_module": "@jupyter-widgets/controls",
            "_model_module_version": "1.5.0",
            "_model_name": "DescriptionStyleModel",
            "_view_count": null,
            "_view_module": "@jupyter-widgets/base",
            "_view_module_version": "1.2.0",
            "_view_name": "StyleView",
            "description_width": ""
          }
        },
        "f581d3c6009849c789a59027777e2837": {
          "model_module": "@jupyter-widgets/base",
          "model_module_version": "1.2.0",
          "model_name": "LayoutModel",
          "state": {
            "_model_module": "@jupyter-widgets/base",
            "_model_module_version": "1.2.0",
            "_model_name": "LayoutModel",
            "_view_count": null,
            "_view_module": "@jupyter-widgets/base",
            "_view_module_version": "1.2.0",
            "_view_name": "LayoutView",
            "align_content": null,
            "align_items": null,
            "align_self": null,
            "border": null,
            "bottom": null,
            "display": null,
            "flex": null,
            "flex_flow": null,
            "grid_area": null,
            "grid_auto_columns": null,
            "grid_auto_flow": null,
            "grid_auto_rows": null,
            "grid_column": null,
            "grid_gap": null,
            "grid_row": null,
            "grid_template_areas": null,
            "grid_template_columns": null,
            "grid_template_rows": null,
            "height": null,
            "justify_content": null,
            "justify_items": null,
            "left": null,
            "margin": null,
            "max_height": null,
            "max_width": null,
            "min_height": null,
            "min_width": null,
            "object_fit": null,
            "object_position": null,
            "order": null,
            "overflow": null,
            "overflow_x": null,
            "overflow_y": null,
            "padding": null,
            "right": null,
            "top": null,
            "visibility": null,
            "width": null
          }
        },
        "fb3b998eb04d4758bd3be4e98ca22241": {
          "model_module": "@jupyter-widgets/base",
          "model_module_version": "1.2.0",
          "model_name": "LayoutModel",
          "state": {
            "_model_module": "@jupyter-widgets/base",
            "_model_module_version": "1.2.0",
            "_model_name": "LayoutModel",
            "_view_count": null,
            "_view_module": "@jupyter-widgets/base",
            "_view_module_version": "1.2.0",
            "_view_name": "LayoutView",
            "align_content": null,
            "align_items": null,
            "align_self": null,
            "border": null,
            "bottom": null,
            "display": null,
            "flex": null,
            "flex_flow": null,
            "grid_area": null,
            "grid_auto_columns": null,
            "grid_auto_flow": null,
            "grid_auto_rows": null,
            "grid_column": null,
            "grid_gap": null,
            "grid_row": null,
            "grid_template_areas": null,
            "grid_template_columns": null,
            "grid_template_rows": null,
            "height": null,
            "justify_content": null,
            "justify_items": null,
            "left": null,
            "margin": null,
            "max_height": null,
            "max_width": null,
            "min_height": null,
            "min_width": null,
            "object_fit": null,
            "object_position": null,
            "order": null,
            "overflow": null,
            "overflow_x": null,
            "overflow_y": null,
            "padding": null,
            "right": null,
            "top": null,
            "visibility": null,
            "width": null
          }
        },
        "fb75186496f94fe2aae2b048f220b50a": {
          "model_module": "@jupyter-widgets/controls",
          "model_module_version": "1.5.0",
          "model_name": "DescriptionStyleModel",
          "state": {
            "_model_module": "@jupyter-widgets/controls",
            "_model_module_version": "1.5.0",
            "_model_name": "DescriptionStyleModel",
            "_view_count": null,
            "_view_module": "@jupyter-widgets/base",
            "_view_module_version": "1.2.0",
            "_view_name": "StyleView",
            "description_width": ""
          }
        },
        "fc9612e204c84e1d84e0fe727a93ec8a": {
          "model_module": "@jupyter-widgets/controls",
          "model_module_version": "1.5.0",
          "model_name": "HBoxModel",
          "state": {
            "_dom_classes": [],
            "_model_module": "@jupyter-widgets/controls",
            "_model_module_version": "1.5.0",
            "_model_name": "HBoxModel",
            "_view_count": null,
            "_view_module": "@jupyter-widgets/controls",
            "_view_module_version": "1.5.0",
            "_view_name": "HBoxView",
            "box_style": "",
            "children": [
              "IPY_MODEL_ba77936181114d488e60e1e9eb0ce9d7",
              "IPY_MODEL_3b6dcb1cb5d543cd9b5ad464746d5aa4",
              "IPY_MODEL_a5d46ea20c9645aebb0cdb1a07c28760"
            ],
            "layout": "IPY_MODEL_e63e8369a5fe4f8eaadaeca7e718ab5f"
          }
        }
      }
    }
  },
  "nbformat": 4,
  "nbformat_minor": 0
}
